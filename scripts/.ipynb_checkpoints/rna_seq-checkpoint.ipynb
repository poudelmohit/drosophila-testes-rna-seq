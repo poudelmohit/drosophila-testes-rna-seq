{
 "cells": [
  {
   "cell_type": "markdown",
   "id": "f52041ae-51eb-44bc-af4c-32cb39c0125e",
   "metadata": {},
   "source": [
    "### Install Packages"
   ]
  },
  {
   "cell_type": "code",
   "execution_count": null,
   "id": "8be7bd37-f148-40f5-be12-49a4f76fe3ad",
   "metadata": {},
   "outputs": [],
   "source": [
    "install.packages(\"BiocManager\")\n",
    "BiocManager::install(c('limma','DESeq2','AnnotationDbi','org.At.tair.db','pathview','gage','gageData','GO.db','GOstats'))\n",
    "install.packages(c(\"dplyr\",\"gplots\",\"ggplot2\",\"ggrepel\"))"
   ]
  },
  {
   "cell_type": "markdown",
   "id": "4e551271-e1ca-4de7-9d50-702889e46aa5",
   "metadata": {},
   "source": [
    "### Load Libraries"
   ]
  },
  {
   "cell_type": "code",
   "execution_count": null,
   "id": "ccb95849-99c5-4e34-bb04-a8c27248fd5b",
   "metadata": {},
   "outputs": [],
   "source": [
    "library(DESeq2) \n",
    "library(dplyr) \n",
    "library(ggplot2)"
   ]
  },
  {
   "cell_type": "code",
   "execution_count": 2,
   "id": "703db764-a5fa-43d0-a82c-d621b1939259",
   "metadata": {},
   "outputs": [
    {
     "data": {
      "text/html": [
       "'/home/labuser/MohitPoudel/extra/rna_seq_analysis/scripts'"
      ],
      "text/latex": [
       "'/home/labuser/MohitPoudel/extra/rna\\_seq\\_analysis/scripts'"
      ],
      "text/markdown": [
       "'/home/labuser/MohitPoudel/extra/rna_seq_analysis/scripts'"
      ],
      "text/plain": [
       "[1] \"/home/labuser/MohitPoudel/extra/rna_seq_analysis/scripts\""
      ]
     },
     "metadata": {},
     "output_type": "display_data"
    }
   ],
   "source": [
    "getwd()"
   ]
  },
  {
   "cell_type": "code",
   "execution_count": null,
   "id": "671f7fb6-1044-4ce9-b635-3e27c47ec025",
   "metadata": {},
   "outputs": [],
   "source": []
  },
  {
   "cell_type": "markdown",
   "id": "31ee8f87-1e61-45d5-bcbc-418382f9eacd",
   "metadata": {},
   "source": [
    "### Load Count Data and Preprocess:"
   ]
  },
  {
   "cell_type": "code",
   "execution_count": 3,
   "id": "37dd3b3d-752c-4625-b328-d1d6f12caab7",
   "metadata": {},
   "outputs": [
    {
     "data": {
      "text/html": [
       "'/home/labuser/MohitPoudel/extra/rna_seq_analysis/output/counts/merged_counts.csv'"
      ],
      "text/latex": [
       "'/home/labuser/MohitPoudel/extra/rna\\_seq\\_analysis/output/counts/merged\\_counts.csv'"
      ],
      "text/markdown": [
       "'/home/labuser/MohitPoudel/extra/rna_seq_analysis/output/counts/merged_counts.csv'"
      ],
      "text/plain": [
       "[1] \"/home/labuser/MohitPoudel/extra/rna_seq_analysis/output/counts/merged_counts.csv\""
      ]
     },
     "metadata": {},
     "output_type": "display_data"
    }
   ],
   "source": [
    "count_file_path = file.path(dirname(getwd()),\"output/counts/merged_counts.csv\")\n",
    "count_file_path"
   ]
  },
  {
   "cell_type": "code",
   "execution_count": 4,
   "id": "e59aea4b-8cf7-49c6-8676-3471e7d05e34",
   "metadata": {},
   "outputs": [],
   "source": [
    "countData = read.csv(count_file_path, sep=\" \",header=TRUE)"
   ]
  },
  {
   "cell_type": "code",
   "execution_count": 5,
   "id": "7ff55cff-9781-481a-8e25-43c96be0cc2b",
   "metadata": {},
   "outputs": [
    {
     "data": {
      "text/html": [
       "<table class=\"dataframe\">\n",
       "<caption>A data.frame: 6 × 5</caption>\n",
       "<thead>\n",
       "\t<tr><th></th><th scope=col>id</th><th scope=col>tr721</th><th scope=col>tr722</th><th scope=col>con723</th><th scope=col>con725</th></tr>\n",
       "\t<tr><th></th><th scope=col>&lt;chr&gt;</th><th scope=col>&lt;int&gt;</th><th scope=col>&lt;int&gt;</th><th scope=col>&lt;int&gt;</th><th scope=col>&lt;int&gt;</th></tr>\n",
       "</thead>\n",
       "<tbody>\n",
       "\t<tr><th scope=row>1</th><td>FBgn0085804</td><td>   0</td><td>  0</td><td>  0</td><td>  0</td></tr>\n",
       "\t<tr><th scope=row>2</th><td>FBgn0267431</td><td> 104</td><td>131</td><td> 77</td><td> 57</td></tr>\n",
       "\t<tr><th scope=row>3</th><td>FBgn0039987</td><td>   0</td><td>  0</td><td>  0</td><td>  0</td></tr>\n",
       "\t<tr><th scope=row>4</th><td>FBgn0058182</td><td>   0</td><td>  0</td><td>  0</td><td>  0</td></tr>\n",
       "\t<tr><th scope=row>5</th><td>FBgn0267430</td><td>1045</td><td>992</td><td>700</td><td>729</td></tr>\n",
       "\t<tr><th scope=row>6</th><td>FBgn0266747</td><td> 132</td><td>134</td><td> 82</td><td>126</td></tr>\n",
       "</tbody>\n",
       "</table>\n"
      ],
      "text/latex": [
       "A data.frame: 6 × 5\n",
       "\\begin{tabular}{r|lllll}\n",
       "  & id & tr721 & tr722 & con723 & con725\\\\\n",
       "  & <chr> & <int> & <int> & <int> & <int>\\\\\n",
       "\\hline\n",
       "\t1 & FBgn0085804 &    0 &   0 &   0 &   0\\\\\n",
       "\t2 & FBgn0267431 &  104 & 131 &  77 &  57\\\\\n",
       "\t3 & FBgn0039987 &    0 &   0 &   0 &   0\\\\\n",
       "\t4 & FBgn0058182 &    0 &   0 &   0 &   0\\\\\n",
       "\t5 & FBgn0267430 & 1045 & 992 & 700 & 729\\\\\n",
       "\t6 & FBgn0266747 &  132 & 134 &  82 & 126\\\\\n",
       "\\end{tabular}\n"
      ],
      "text/markdown": [
       "\n",
       "A data.frame: 6 × 5\n",
       "\n",
       "| <!--/--> | id &lt;chr&gt; | tr721 &lt;int&gt; | tr722 &lt;int&gt; | con723 &lt;int&gt; | con725 &lt;int&gt; |\n",
       "|---|---|---|---|---|---|\n",
       "| 1 | FBgn0085804 |    0 |   0 |   0 |   0 |\n",
       "| 2 | FBgn0267431 |  104 | 131 |  77 |  57 |\n",
       "| 3 | FBgn0039987 |    0 |   0 |   0 |   0 |\n",
       "| 4 | FBgn0058182 |    0 |   0 |   0 |   0 |\n",
       "| 5 | FBgn0267430 | 1045 | 992 | 700 | 729 |\n",
       "| 6 | FBgn0266747 |  132 | 134 |  82 | 126 |\n",
       "\n"
      ],
      "text/plain": [
       "  id          tr721 tr722 con723 con725\n",
       "1 FBgn0085804    0    0     0      0   \n",
       "2 FBgn0267431  104  131    77     57   \n",
       "3 FBgn0039987    0    0     0      0   \n",
       "4 FBgn0058182    0    0     0      0   \n",
       "5 FBgn0267430 1045  992   700    729   \n",
       "6 FBgn0266747  132  134    82    126   "
      ]
     },
     "metadata": {},
     "output_type": "display_data"
    }
   ],
   "source": [
    "head(countData)"
   ]
  },
  {
   "cell_type": "code",
   "execution_count": 6,
   "id": "20e61378-5b42-4788-ac79-2ae1dd7ca830",
   "metadata": {},
   "outputs": [
    {
     "data": {
      "text/html": [
       "<style>\n",
       ".list-inline {list-style: none; margin:0; padding: 0}\n",
       ".list-inline>li {display: inline-block}\n",
       ".list-inline>li:not(:last-child)::after {content: \"\\00b7\"; padding: 0 .5ex}\n",
       "</style>\n",
       "<ol class=list-inline><li>'id'</li><li>'tr721'</li><li>'tr722'</li><li>'con723'</li><li>'con725'</li></ol>\n"
      ],
      "text/latex": [
       "\\begin{enumerate*}\n",
       "\\item 'id'\n",
       "\\item 'tr721'\n",
       "\\item 'tr722'\n",
       "\\item 'con723'\n",
       "\\item 'con725'\n",
       "\\end{enumerate*}\n"
      ],
      "text/markdown": [
       "1. 'id'\n",
       "2. 'tr721'\n",
       "3. 'tr722'\n",
       "4. 'con723'\n",
       "5. 'con725'\n",
       "\n",
       "\n"
      ],
      "text/plain": [
       "[1] \"id\"     \"tr721\"  \"tr722\"  \"con723\" \"con725\""
      ]
     },
     "metadata": {},
     "output_type": "display_data"
    }
   ],
   "source": [
    "colnames(countData)"
   ]
  },
  {
   "cell_type": "code",
   "execution_count": 7,
   "id": "ed6c1725-1aa0-4274-91dd-52eedb9aa648",
   "metadata": {},
   "outputs": [],
   "source": [
    "rownames(countData) = countData$id"
   ]
  },
  {
   "cell_type": "code",
   "execution_count": 8,
   "id": "def57eed-4b20-4385-80ba-ed46c8df1ad4",
   "metadata": {},
   "outputs": [],
   "source": [
    "countData=countData[,-1]"
   ]
  },
  {
   "cell_type": "code",
   "execution_count": 9,
   "id": "cac8d7cf-f0d8-45c0-9a27-566809891900",
   "metadata": {},
   "outputs": [
    {
     "data": {
      "text/plain": [
       "     tr721            tr722            con723             con725        \n",
       " Min.   :     0   Min.   :     0   Min.   :     0.0   Min.   :     0.0  \n",
       " 1st Qu.:     8   1st Qu.:     8   1st Qu.:     6.0   1st Qu.:     8.0  \n",
       " Median :   183   Median :   206   Median :   141.0   Median :   176.0  \n",
       " Mean   :  2454   Mean   :  2836   Mean   :  2175.1   Mean   :  2110.7  \n",
       " 3rd Qu.:  1160   3rd Qu.:  1408   3rd Qu.:   852.5   3rd Qu.:   978.5  \n",
       " Max.   :728263   Max.   :526754   Max.   :987462.0   Max.   :782962.0  "
      ]
     },
     "metadata": {},
     "output_type": "display_data"
    }
   ],
   "source": [
    "summary(countData)\n",
    "# difference is already observed between control and treatment samples"
   ]
  },
  {
   "cell_type": "code",
   "execution_count": 10,
   "id": "b902f722-7766-41e3-bbb7-1a3750eb8b4e",
   "metadata": {},
   "outputs": [
    {
     "data": {
      "text/html": [
       "<style>\n",
       ".dl-inline {width: auto; margin:0; padding: 0}\n",
       ".dl-inline>dt, .dl-inline>dd {float: none; width: auto; display: inline-block}\n",
       ".dl-inline>dt::after {content: \":\\0020\"; padding-right: .5ex}\n",
       ".dl-inline>dt:not(:first-of-type) {padding-left: .5ex}\n",
       "</style><dl class=dl-inline><dt>tr721</dt><dd>43096987</dd><dt>tr722</dt><dd>49796402</dd><dt>con723</dt><dd>38193053</dd><dt>con725</dt><dd>37060965</dd></dl>\n"
      ],
      "text/latex": [
       "\\begin{description*}\n",
       "\\item[tr721] 43096987\n",
       "\\item[tr722] 49796402\n",
       "\\item[con723] 38193053\n",
       "\\item[con725] 37060965\n",
       "\\end{description*}\n"
      ],
      "text/markdown": [
       "tr721\n",
       ":   43096987tr722\n",
       ":   49796402con723\n",
       ":   38193053con725\n",
       ":   37060965\n",
       "\n"
      ],
      "text/plain": [
       "   tr721    tr722   con723   con725 \n",
       "43096987 49796402 38193053 37060965 "
      ]
     },
     "metadata": {},
     "output_type": "display_data"
    }
   ],
   "source": [
    "colSums(countData)"
   ]
  },
  {
   "cell_type": "code",
   "execution_count": 11,
   "id": "ef774318-034f-47b6-9aa3-5e807540dfeb",
   "metadata": {},
   "outputs": [
    {
     "data": {
      "image/png": "[encoded data removed]",
      "text/plain": [
       "Plot with title “Feature Counts (in Millions)”"
      ]
     },
     "metadata": {
      "image/png": {
       "height": 420,
       "width": 420
      }
     },
     "output_type": "display_data"
    }
   ],
   "source": [
    "# Open a PDF device in the desired directory (relative path)\n",
    "png(\"../output/plots/my_barplot.pdf\", width=7, height=5)\n",
    "\n",
    "# Set margins\n",
    "par(mar=c(8,4,4,1) + 0.5)\n",
    "\n",
    "# Create the barplot\n",
    "barplot(colSums(countData)/1e6, \n",
    "        col=\"skyblue\",\n",
    "        main=\"Feature Counts (in Millions)\", \n",
    "        ylab=\"Read Counts (Millions)\", \n",
    "        cex.axis=1.5,   \n",
    "        cex.lab=1.5,    \n",
    "        cex.names=1.5,  \n",
    "        ylim=c(0, 50))   # Set y-axis limit to 50\n",
    "\n",
    "# Close the device to finalize the PDF\n",
    "dev.off()\n",
    "\n"
   ]
  },
  {
   "cell_type": "code",
   "execution_count": 12,
   "id": "ce0d77b5-8cba-483f-9259-a7d61ccb68dd",
   "metadata": {},
   "outputs": [
    {
     "data": {
      "image/png": "[encoded data removed]",
      "text/plain": [
       "Plot with title “Sample con725”"
      ]
     },
     "metadata": {
      "image/png": {
       "height": 420,
       "width": 420
      }
     },
     "output_type": "display_data"
    }
   ],
   "source": [
    "# Histogram to see the value distribution for each samples\n",
    "\n",
    "par(mfrow=c(2, 2))\n",
    "\n",
    "# Create histograms for each sample\n",
    "hist(countData$tr721, br=10, main=\"Sample tr721\", xlab=\"Counts\", xlim=c(0, 500000))\n",
    "hist(countData$tr722, br=10, main=\"Sample tr722\", xlab=\"Counts\", xlim=c(0, 500000))\n",
    "hist(countData$con723, br=10, main=\"Sample con723\", xlab=\"Counts\", xlim=c(0, 500000))\n",
    "hist(countData$con725, bre=10, main=\"Sample con725\", xlab=\"Counts\", xlim=c(0, 500000))\n",
    "\n",
    "# Reset the plotting layout to default\n",
    "par(mfrow=c(1, 1))\n"
   ]
  },
  {
   "cell_type": "code",
   "execution_count": 13,
   "id": "920d36cd-9eaf-4220-8d87-be2fc8085793",
   "metadata": {},
   "outputs": [],
   "source": [
    "logCount = log2(1 + countData)\n",
    "# logCount\n"
   ]
  },
  {
   "cell_type": "code",
   "execution_count": 14,
   "id": "1b39da9f-5157-4b5d-b153-9f9d04c7a302",
   "metadata": {},
   "outputs": [
    {
     "data": {
      "image/png": "[encoded data removed]",
      "text/plain": [
       "plot without title"
      ]
     },
     "metadata": {
      "image/png": {
       "height": 420,
       "width": 420
      }
     },
     "output_type": "display_data"
    }
   ],
   "source": [
    "# Histogram to see the value distribution for each samples\n",
    "par(mfrow=c(2, 2))\n",
    "\n",
    "# Create histograms for each sample\n",
    "plot(logCount[,1], logCount[,2])\n",
    "plot(logCount[,1], logCount[,3])\n",
    "plot(logCount[,1], logCount[,4])\n",
    "plot(logCount[,2], logCount[,3])\n",
    "\n",
    "# Reset the plotting layout to default\n",
    "par(mfrow=c(1, 1))"
   ]
  },
  {
   "cell_type": "markdown",
   "id": "503fe279-e5f4-46a7-b404-009a9266fb2c",
   "metadata": {},
   "source": [
    "### Loading in DEseq "
   ]
  },
  {
   "cell_type": "code",
   "execution_count": 15,
   "id": "f11868ed-af10-42a3-a189-e62d1ff40309",
   "metadata": {},
   "outputs": [],
   "source": [
    "sample_type = c(\"treatment\",\"treatment\",\"control\",\"control\")"
   ]
  },
  {
   "cell_type": "code",
   "execution_count": 16,
   "id": "c8d9e7ab-da07-4f0a-88f7-a996e5f59a94",
   "metadata": {},
   "outputs": [],
   "source": [
    "colData = as.data.frame(cbind(colnames(countData), sample_type))"
   ]
  },
  {
   "cell_type": "code",
   "execution_count": 17,
   "id": "311805cb-13be-4bf0-846c-4ab9d75633fd",
   "metadata": {},
   "outputs": [
    {
     "data": {
      "text/html": [
       "<table class=\"dataframe\">\n",
       "<caption>A data.frame: 4 × 2</caption>\n",
       "<thead>\n",
       "\t<tr><th scope=col>V1</th><th scope=col>sample_type</th></tr>\n",
       "\t<tr><th scope=col>&lt;chr&gt;</th><th scope=col>&lt;chr&gt;</th></tr>\n",
       "</thead>\n",
       "<tbody>\n",
       "\t<tr><td>tr721 </td><td>treatment</td></tr>\n",
       "\t<tr><td>tr722 </td><td>treatment</td></tr>\n",
       "\t<tr><td>con723</td><td>control  </td></tr>\n",
       "\t<tr><td>con725</td><td>control  </td></tr>\n",
       "</tbody>\n",
       "</table>\n"
      ],
      "text/latex": [
       "A data.frame: 4 × 2\n",
       "\\begin{tabular}{ll}\n",
       " V1 & sample\\_type\\\\\n",
       " <chr> & <chr>\\\\\n",
       "\\hline\n",
       "\t tr721  & treatment\\\\\n",
       "\t tr722  & treatment\\\\\n",
       "\t con723 & control  \\\\\n",
       "\t con725 & control  \\\\\n",
       "\\end{tabular}\n"
      ],
      "text/markdown": [
       "\n",
       "A data.frame: 4 × 2\n",
       "\n",
       "| V1 &lt;chr&gt; | sample_type &lt;chr&gt; |\n",
       "|---|---|\n",
       "| tr721  | treatment |\n",
       "| tr722  | treatment |\n",
       "| con723 | control   |\n",
       "| con725 | control   |\n",
       "\n"
      ],
      "text/plain": [
       "  V1     sample_type\n",
       "1 tr721  treatment  \n",
       "2 tr722  treatment  \n",
       "3 con723 control    \n",
       "4 con725 control    "
      ]
     },
     "metadata": {},
     "output_type": "display_data"
    }
   ],
   "source": [
    "colData"
   ]
  },
  {
   "cell_type": "code",
   "execution_count": 18,
   "id": "c4acfa2d-a068-4168-9700-706ee8d72d9b",
   "metadata": {},
   "outputs": [
    {
     "name": "stderr",
     "output_type": "stream",
     "text": [
      "Warning message in DESeqDataSet(se, design = design, ignoreRank):\n",
      "“some variables in design formula are characters, converting to factors”\n"
     ]
    }
   ],
   "source": [
    "dds = DESeqDataSetFromMatrix(countData, colData, design = ~sample_type)"
   ]
  },
  {
   "cell_type": "code",
   "execution_count": 19,
   "id": "0b7a3c36-a2d8-49fc-a9e8-884422564921",
   "metadata": {},
   "outputs": [
    {
     "name": "stderr",
     "output_type": "stream",
     "text": [
      "estimating size factors\n",
      "\n",
      "estimating dispersions\n",
      "\n",
      "gene-wise dispersion estimates\n",
      "\n",
      "mean-dispersion relationship\n",
      "\n",
      "final dispersion estimates\n",
      "\n",
      "fitting model and testing\n",
      "\n"
     ]
    }
   ],
   "source": [
    "dds0 = DESeq(dds) # model fitting"
   ]
  },
  {
   "cell_type": "code",
   "execution_count": 20,
   "id": "dcef71fa-3028-4034-b96c-e4ebc365398f",
   "metadata": {},
   "outputs": [
    {
     "data": {
      "text/html": [
       "17559"
      ],
      "text/latex": [
       "17559"
      ],
      "text/markdown": [
       "17559"
      ],
      "text/plain": [
       "[1] 17559"
      ]
     },
     "metadata": {},
     "output_type": "display_data"
    }
   ],
   "source": [
    "nrow(dds0)  # no. of genes in the resulting object\n",
    "dds = dds0[rowSums(counts(dds0)) > 5,] # filter out genes with too-low count"
   ]
  },
  {
   "cell_type": "code",
   "execution_count": 21,
   "id": "7d14adea-173c-4f01-a82d-9db42857affe",
   "metadata": {},
   "outputs": [
    {
     "data": {
      "text/html": [
       "14725"
      ],
      "text/latex": [
       "14725"
      ],
      "text/markdown": [
       "14725"
      ],
      "text/plain": [
       "[1] 14725"
      ]
     },
     "metadata": {},
     "output_type": "display_data"
    }
   ],
   "source": [
    "dim(dds)[1] "
   ]
  },
  {
   "cell_type": "code",
   "execution_count": 22,
   "id": "fd5b5634-269c-4bfe-b15e-5997fcb18406",
   "metadata": {},
   "outputs": [
    {
     "data": {
      "text/html": [
       "<style>\n",
       ".dl-inline {width: auto; margin:0; padding: 0}\n",
       ".dl-inline>dt, .dl-inline>dd {float: none; width: auto; display: inline-block}\n",
       ".dl-inline>dt::after {content: \":\\0020\"; padding-right: .5ex}\n",
       ".dl-inline>dt:not(:first-of-type) {padding-left: .5ex}\n",
       "</style><dl class=dl-inline><dt>tr721</dt><dd>1.07188001150061</dd><dt>tr722</dt><dd>1.27907671458853</dd><dt>con723</dt><dd>0.821044902067994</dd><dt>con725</dt><dd>0.903500597477744</dd></dl>\n"
      ],
      "text/latex": [
       "\\begin{description*}\n",
       "\\item[tr721] 1.07188001150061\n",
       "\\item[tr722] 1.27907671458853\n",
       "\\item[con723] 0.821044902067994\n",
       "\\item[con725] 0.903500597477744\n",
       "\\end{description*}\n"
      ],
      "text/markdown": [
       "tr721\n",
       ":   1.07188001150061tr722\n",
       ":   1.27907671458853con723\n",
       ":   0.821044902067994con725\n",
       ":   0.903500597477744\n",
       "\n"
      ],
      "text/plain": [
       "    tr721     tr722    con723    con725 \n",
       "1.0718800 1.2790767 0.8210449 0.9035006 "
      ]
     },
     "metadata": {},
     "output_type": "display_data"
    }
   ],
   "source": [
    "sizeFactors(dds)\n",
    "# DESeq2 calculates size factors by using a method that is based on the median of ratios approach, which works as follows:\n",
    "# For each sample, it computes the ratio of the read count of each gene to the geometric mean of that gene's count across all samples.\n",
    "# These ratios are then used to calculate a size factor for each sample. This factor is the median of these ratios for each sample, \\n \n",
    "# ensuring that the gene expression levels are scaled to a common baseline."
   ]
  },
  {
   "cell_type": "markdown",
   "id": "88c2b2b5-60d0-4afa-95ce-3cca0dbbfce8",
   "metadata": {},
   "source": [
    "## PCA Plot"
   ]
  },
  {
   "cell_type": "code",
   "execution_count": 23,
   "id": "4d437712-8f2c-4f7f-94a9-935998e5646d",
   "metadata": {},
   "outputs": [],
   "source": [
    "rld = rlog(dds) # obtaining regularized log counts"
   ]
  },
  {
   "cell_type": "code",
   "execution_count": 24,
   "id": "d80f18ac-1f7a-4ddc-9084-0d680d4a7477",
   "metadata": {},
   "outputs": [
    {
     "name": "stderr",
     "output_type": "stream",
     "text": [
      "using ntop=500 top features by variance\n",
      "\n"
     ]
    },
    {
     "data": {
      "text/html": [
       "<table class=\"dataframe\">\n",
       "<caption>A data.frame: 4 × 5</caption>\n",
       "<thead>\n",
       "\t<tr><th></th><th scope=col>PC1</th><th scope=col>PC2</th><th scope=col>group</th><th scope=col>sample_type</th><th scope=col>name</th></tr>\n",
       "\t<tr><th></th><th scope=col>&lt;dbl&gt;</th><th scope=col>&lt;dbl&gt;</th><th scope=col>&lt;fct&gt;</th><th scope=col>&lt;fct&gt;</th><th scope=col>&lt;chr&gt;</th></tr>\n",
       "</thead>\n",
       "<tbody>\n",
       "\t<tr><th scope=row>tr721</th><td>-11.03007</td><td> 1.1572897</td><td>treatment</td><td>treatment</td><td>tr721 </td></tr>\n",
       "\t<tr><th scope=row>tr722</th><td>-20.04683</td><td> 0.0549765</td><td>treatment</td><td>treatment</td><td>tr722 </td></tr>\n",
       "\t<tr><th scope=row>con723</th><td> 12.15737</td><td>-5.4424311</td><td>control  </td><td>control  </td><td>con723</td></tr>\n",
       "\t<tr><th scope=row>con725</th><td> 18.91953</td><td> 4.2301649</td><td>control  </td><td>control  </td><td>con725</td></tr>\n",
       "</tbody>\n",
       "</table>\n"
      ],
      "text/latex": [
       "A data.frame: 4 × 5\n",
       "\\begin{tabular}{r|lllll}\n",
       "  & PC1 & PC2 & group & sample\\_type & name\\\\\n",
       "  & <dbl> & <dbl> & <fct> & <fct> & <chr>\\\\\n",
       "\\hline\n",
       "\ttr721 & -11.03007 &  1.1572897 & treatment & treatment & tr721 \\\\\n",
       "\ttr722 & -20.04683 &  0.0549765 & treatment & treatment & tr722 \\\\\n",
       "\tcon723 &  12.15737 & -5.4424311 & control   & control   & con723\\\\\n",
       "\tcon725 &  18.91953 &  4.2301649 & control   & control   & con725\\\\\n",
       "\\end{tabular}\n"
      ],
      "text/markdown": [
       "\n",
       "A data.frame: 4 × 5\n",
       "\n",
       "| <!--/--> | PC1 &lt;dbl&gt; | PC2 &lt;dbl&gt; | group &lt;fct&gt; | sample_type &lt;fct&gt; | name &lt;chr&gt; |\n",
       "|---|---|---|---|---|---|\n",
       "| tr721 | -11.03007 |  1.1572897 | treatment | treatment | tr721  |\n",
       "| tr722 | -20.04683 |  0.0549765 | treatment | treatment | tr722  |\n",
       "| con723 |  12.15737 | -5.4424311 | control   | control   | con723 |\n",
       "| con725 |  18.91953 |  4.2301649 | control   | control   | con725 |\n",
       "\n"
      ],
      "text/plain": [
       "       PC1       PC2        group     sample_type name  \n",
       "tr721  -11.03007  1.1572897 treatment treatment   tr721 \n",
       "tr722  -20.04683  0.0549765 treatment treatment   tr722 \n",
       "con723  12.15737 -5.4424311 control   control     con723\n",
       "con725  18.91953  4.2301649 control   control     con725"
      ]
     },
     "metadata": {},
     "output_type": "display_data"
    }
   ],
   "source": [
    "pcaData <- plotPCA(rld, intgroup = c(\"sample_type\"), returnData = TRUE)\n",
    "pcaData"
   ]
  },
  {
   "cell_type": "code",
   "execution_count": 25,
   "id": "1a7c1a15-4795-48aa-a3cf-9ff30174a20c",
   "metadata": {},
   "outputs": [
    {
     "name": "stderr",
     "output_type": "stream",
     "text": [
      "using ntop=500 top features by variance\n",
      "\n"
     ]
    },
    {
     "data": {
      "image/png": "[encoded data removed]",
      "text/plain": [
       "plot without title"
      ]
     },
     "metadata": {
      "image/png": {
       "height": 420,
       "width": 420
      }
     },
     "output_type": "display_data"
    }
   ],
   "source": [
    "# Extract PCA data\n",
    "pcaData <- plotPCA(rld, intgroup = c(\"sample_type\"), returnData = TRUE)\n",
    "\n",
    "# Add sample names to the PCA data\n",
    "pcaData$Sample <- rownames(pcaData)\n",
    "\n",
    "# Plot PCA with publication-quality style and additional space for points\n",
    "library(ggplot2)\n",
    "\n",
    "ggplot(pcaData, aes(x = PC1, y = PC2, color = sample_type, label = Sample)) +\n",
    "  geom_point(size = 4, alpha = 0.7, shape = 16) +  # Larger, semi-transparent points\n",
    "  geom_text(vjust = -0.5, size = 5, fontface = \"italic\", color = \"black\") +  # Larger labels with italic style\n",
    "  labs(title = \"Principal Component Analysis\", x = \"PC1\", y = \"PC2\") + \n",
    "  scale_color_brewer(palette = \"Set1\") +  # Better color palette for color-blind accessibility\n",
    "  theme_minimal(base_size = 16) +  # Minimal theme with larger base font size\n",
    "  theme(\n",
    "    axis.title = element_text(size = 18, face = \"bold\"),   # Bold axis titles\n",
    "    axis.text = element_text(size = 14),    # Larger axis text\n",
    "    plot.title = element_text(size = 20, face = \"bold\", hjust = 0.5),  # Bold and centered title\n",
    "    legend.title = element_text(size = 14, face = \"bold\"), # Bold legend title\n",
    "    legend.text = element_text(size = 12),   # Larger legend text\n",
    "    legend.key.size = unit(1.2, \"cm\"),  # Adjust legend key size\n",
    "    plot.margin = margin(1, 1, 1, 2, \"cm\")  # Increase right margin for extra space\n",
    "  ) +\n",
    "  coord_cartesian(clip = \"off\")  # Allow points outside the default plot area\n"
   ]
  },
  {
   "cell_type": "markdown",
   "id": "b42cef84-d250-4fc5-ae6e-f99f1f06c6e0",
   "metadata": {},
   "source": [
    "### Custom Functions:"
   ]
  },
  {
   "cell_type": "code",
   "execution_count": 26,
   "id": "ce796792-9e1f-4236-b56b-6b3d508fd03c",
   "metadata": {},
   "outputs": [],
   "source": [
    "detectGroups=function(x){\n",
    "    term=gsub(\"[0-9]*$\",\"\",x)\n",
    "    # term=gsub(\"_$\",\"\",term)\n",
    "    # term=gsub(\"_Rep$\",\"\",term)\n",
    "    return (term)}\n",
    "# The function returns the category name (control or treatment) from the sample id"
   ]
  },
  {
   "cell_type": "code",
   "execution_count": 27,
   "id": "c452f0a8-eb10-4178-a0e1-0a052941bbfc",
   "metadata": {},
   "outputs": [
    {
     "data": {
      "text/html": [
       "'con'"
      ],
      "text/latex": [
       "'con'"
      ],
      "text/markdown": [
       "'con'"
      ],
      "text/plain": [
       "[1] \"con\""
      ]
     },
     "metadata": {},
     "output_type": "display_data"
    }
   ],
   "source": [
    "detectGroups(\"con721\")\n"
   ]
  },
  {
   "cell_type": "code",
   "execution_count": 28,
   "id": "a6b6d1b2-3250-4bf0-8910-1d39c01397b0",
   "metadata": {},
   "outputs": [],
   "source": [
    "dist2=function(x){\n",
    "    as.dist(1-cor(t(x), method=\"pearson\"))}\n",
    "\n",
    "# calculates the distance matrix for the heatmap based on Pearson correlation"
   ]
  },
  {
   "cell_type": "code",
   "execution_count": 29,
   "id": "7ab20288-9f3b-4b68-8e41-4e5dcc009866",
   "metadata": {},
   "outputs": [],
   "source": [
    "hclust2 = function(x, method=\"average\"){\n",
    "    hclust(x, method=method)\n",
    "}\n",
    "# returns the hierarchical clustering result.\n"
   ]
  },
  {
   "cell_type": "markdown",
   "id": "3b0637bc-60d1-4682-a175-069cf71b892a",
   "metadata": {},
   "source": [
    "#### Heatmap Code:"
   ]
  },
  {
   "cell_type": "code",
   "execution_count": 30,
   "id": "ef44f7b7-0ae2-4286-a5b3-3497b7762dbc",
   "metadata": {},
   "outputs": [
    {
     "name": "stderr",
     "output_type": "stream",
     "text": [
      "\n",
      "Attaching package: ‘gplots’\n",
      "\n",
      "\n",
      "The following object is masked from ‘package:IRanges’:\n",
      "\n",
      "    space\n",
      "\n",
      "\n",
      "The following object is masked from ‘package:S4Vectors’:\n",
      "\n",
      "    space\n",
      "\n",
      "\n",
      "The following object is masked from ‘package:stats’:\n",
      "\n",
      "    lowess\n",
      "\n",
      "\n"
     ]
    }
   ],
   "source": [
    "library(gplots)"
   ]
  },
  {
   "cell_type": "code",
   "execution_count": 31,
   "id": "4a050dc1-f2ba-4a9d-aa24-45f4dcafd1c1",
   "metadata": {},
   "outputs": [],
   "source": [
    "\n",
    "n = 100 # top 100 genes with the highest variance selected\n",
    "x = assay(rld) # extracts the expression data from rlog-transformed gene expression data\n",
    "if(n > dim(x)[1]) n = dim(x)[1] # ensureing n does not exceed the number of rows\n",
    "x = x[order(apply(x, 1, sd), decreasing = TRUE),] # orders the genes (rows) based on their standard deviation\n"
   ]
  },
  {
   "cell_type": "markdown",
   "id": "a062673f-3d64-4733-9a3c-2009edbabda6",
   "metadata": {},
   "source": [
    "#### Preprocessing:"
   ]
  },
  {
   "cell_type": "code",
   "execution_count": 32,
   "id": "660f7d01-deac-41a9-b277-aa32c3e33439",
   "metadata": {},
   "outputs": [],
   "source": [
    "x = as.matrix(x[1:n,]) - apply(x[1:n,], 1, mean) \n",
    "#  Normalizes the data by centering each gene (row) to have a mean of zero.\n",
    "cutoff = median(unlist(x)) + 2 * sd(unlist(x)) \n",
    "# Calculates a cutoff value to limit extreme values (outliers). \n",
    "# This helps in controlling large values that may skew the color scale.\n",
    "x[x > cutoff] = cutoff # Caps the values greater than the cutoff to the cutoff value.\n"
   ]
  },
  {
   "cell_type": "markdown",
   "id": "47827fc1-390b-44db-9320-147f97773abb",
   "metadata": {},
   "source": [
    "#### Grouping and Color Mapping:"
   ]
  },
  {
   "cell_type": "code",
   "execution_count": 33,
   "id": "44ab5190-7c8c-4e9b-9e05-d52d85edc857",
   "metadata": {},
   "outputs": [],
   "source": [
    "groups = detectGroups(colnames(x))\n",
    "groups.colors = rainbow(length(unique(groups)))\n",
    "# creats color palette with distinct colors for each unique group extracted using detectGroups function"
   ]
  },
  {
   "cell_type": "markdown",
   "id": "b3dde540-3e1d-4921-842d-bb756ed59f02",
   "metadata": {},
   "source": [
    "### Heatmap Creation"
   ]
  },
  {
   "cell_type": "code",
   "execution_count": 34,
   "id": "e64c324c-6a7f-425d-b611-7ea4ad17df79",
   "metadata": {},
   "outputs": [
    {
     "data": {
      "image/png": "[encoded data removed]",
      "text/plain": [
       "Plot with title “Color Key”"
      ]
     },
     "metadata": {
      "image/png": {
       "height": 420,
       "width": 420
      }
     },
     "output_type": "display_data"
    }
   ],
   "source": [
    "lmat = rbind(c(5, 4), c(0, 1), c(3, 2)) # defines layout\n",
    "lwid = c(1.5, 4)                        # width of plot\n",
    "lhei = c(1, 0.2, 4)                       # height of plot\n",
    "\n",
    "heatmap.2(x, distfun = dist2, hclustfun = hclust2,\n",
    "          col = greenred(75), density.info = \"none\", trace = \"none\",\n",
    "          scale = \"none\", keysize = 0.2, key = T,\n",
    "          symkey = F, ColSideColors = groups.colors[as.factor(groups)],\n",
    "          margins = c(12, 12),              # Increase margins for better label visibility\n",
    "          cexRow = 1.5,                    # Increase font size of y-axis labels\n",
    "          cexCol = 1.5,                    # Increase font size of x-axis labels\n",
    "          srtCol = 45,                     # Rotate x-axis labels\n",
    "          lmat = lmat, lwid = lwid, lhei = lhei)\n"
   ]
  },
  {
   "cell_type": "markdown",
   "id": "a025670c-e374-45ea-9805-369dd56dbaf9",
   "metadata": {},
   "source": [
    "## DESeq2 SDEG Analysis:"
   ]
  },
  {
   "cell_type": "code",
   "execution_count": 35,
   "id": "df891d7a-9ae2-490a-be3e-a9918123897f",
   "metadata": {},
   "outputs": [
    {
     "data": {
      "text/html": [
       "<style>\n",
       ".list-inline {list-style: none; margin:0; padding: 0}\n",
       ".list-inline>li {display: inline-block}\n",
       ".list-inline>li:not(:last-child)::after {content: \"\\00b7\"; padding: 0 .5ex}\n",
       "</style>\n",
       "<ol class=list-inline><li>'Intercept'</li><li>'sample_type_treatment_vs_control'</li></ol>\n"
      ],
      "text/latex": [
       "\\begin{enumerate*}\n",
       "\\item 'Intercept'\n",
       "\\item 'sample\\_type\\_treatment\\_vs\\_control'\n",
       "\\end{enumerate*}\n"
      ],
      "text/markdown": [
       "1. 'Intercept'\n",
       "2. 'sample_type_treatment_vs_control'\n",
       "\n",
       "\n"
      ],
      "text/plain": [
       "[1] \"Intercept\"                        \"sample_type_treatment_vs_control\""
      ]
     },
     "metadata": {},
     "output_type": "display_data"
    }
   ],
   "source": [
    "resultsNames(dds)"
   ]
  },
  {
   "cell_type": "code",
   "execution_count": 36,
   "id": "591e972a-b2d7-4ef3-82db-079d997ea066",
   "metadata": {},
   "outputs": [
    {
     "data": {
      "text/plain": [
       "log2 fold change (MLE): sample type treatment vs control \n",
       "Wald test p-value: sample type treatment vs control \n",
       "DataFrame with 6 rows and 6 columns\n",
       "              baseMean log2FoldChange     lfcSE      stat    pvalue      padj\n",
       "             <numeric>      <numeric> <numeric> <numeric> <numeric> <numeric>\n",
       "FBgn0267431   89.07857      0.3484648  0.476756  0.730908 0.4648351  0.805881\n",
       "FBgn0267430  852.47894      0.0766696  0.248772  0.308192 0.7579362  0.935481\n",
       "FBgn0266747  116.81037     -0.0726535  0.428796 -0.169436 0.8654538  0.965876\n",
       "FBgn0086917    1.62885     -1.3409422  3.145707 -0.426277 0.6699061        NA\n",
       "FBgn0010247 1939.39505      0.5853793  0.266768  2.194341 0.0282109  0.199505\n",
       "FBgn0086378  675.35212      0.2385825  0.301530  0.791240 0.4288041  0.783478"
      ]
     },
     "metadata": {},
     "output_type": "display_data"
    }
   ],
   "source": [
    "res=results(dds)\n",
    "head(res)"
   ]
  },
  {
   "cell_type": "code",
   "execution_count": 37,
   "id": "0813b58f-64fa-4559-b4b5-d95eea7f731f",
   "metadata": {},
   "outputs": [
    {
     "name": "stdout",
     "output_type": "stream",
     "text": [
      "\n",
      "out of 14725 with nonzero total read count\n",
      "adjusted p-value < 0.1\n",
      "LFC > 0 (up)       : 436, 3%\n",
      "LFC < 0 (down)     : 927, 6.3%\n",
      "outliers [1]       : 0, 0%\n",
      "low counts [2]     : 857, 5.8%\n",
      "(mean count < 4)\n",
      "[1] see 'cooksCutoff' argument of ?results\n",
      "[2] see 'independentFiltering' argument of ?results\n",
      "\n"
     ]
    }
   ],
   "source": [
    "summary(res)"
   ]
  },
  {
   "cell_type": "markdown",
   "id": "2fa39b8d-23df-424e-8398-2b7babba4505",
   "metadata": {},
   "source": [
    "### MA plot"
   ]
  },
  {
   "cell_type": "code",
   "execution_count": 38,
   "id": "cee1dfec-248e-41a3-b0bf-17b4a78456b7",
   "metadata": {},
   "outputs": [
    {
     "data": {
      "image/png": "[encoded data removed]",
      "text/plain": [
       "Plot with title “”"
      ]
     },
     "metadata": {
      "image/png": {
       "height": 420,
       "width": 420
      }
     },
     "output_type": "display_data"
    }
   ],
   "source": [
    "res=results(dds, lfcThreshold=0.01)\n",
    "DESeq2::plotMA(res,ylim=c(-5,5))"
   ]
  },
  {
   "cell_type": "markdown",
   "id": "5351716d-df74-4029-b288-2e3823a39b3a",
   "metadata": {},
   "source": [
    "### Volcano Plot:"
   ]
  },
  {
   "cell_type": "code",
   "execution_count": 39,
   "id": "fa1e9eaa-c758-48fd-afb8-883e2c833134",
   "metadata": {
    "scrolled": true
   },
   "outputs": [
    {
     "data": {
      "image/png": "[encoded data removed]",
      "text/plain": [
       "plot without title"
      ]
     },
     "metadata": {
      "image/png": {
       "height": 420,
       "width": 420
      }
     },
     "output_type": "display_data"
    }
   ],
   "source": [
    "# Filter the dataset to remove rows with NA values in log2FoldChange or padj\n",
    "res1 <- as.data.frame(res) %>%\n",
    "  filter(!is.na(log2FoldChange) & !is.na(padj)) %>%\n",
    "  mutate(\n",
    "    sig = case_when(\n",
    "      padj < 0.1 & abs(log2FoldChange) >= 1.0 ~ \"FDR<0.1 & |Log2FC|≥1\",\n",
    "      TRUE ~ \"Not Sig\"\n",
    "    )\n",
    "  )\n",
    "\n",
    "# Create the volcano plot\n",
    "ggplot(res1, aes(x = log2FoldChange, y = -log10(padj))) +\n",
    "  geom_point(aes(color = sig), size = 2, alpha = 0.8) +  # Use points with transparency\n",
    "  scale_color_manual(\n",
    "    values = c(\"FDR<0.1 & |Log2FC|≥1\" = \"red\", \"Not Sig\" = \"black\"),\n",
    "    name = \"Significance\"\n",
    "  ) +\n",
    "  theme_minimal(base_size = 14) +  # Clean theme with larger font size\n",
    "  labs(\n",
    "    title = \"Volcano Plot\",\n",
    "    x = expression(Log[2] ~ Fold ~ Change),\n",
    "    y = expression(-Log[10] ~ Adjusted ~ p ~ Value)\n",
    "  ) +\n",
    "  theme(\n",
    "    plot.title = element_text(hjust = 0.5, face = \"bold\"),  # Center and bold title\n",
    "    legend.position = \"top\",  # Move legend to top\n",
    "    axis.text = element_text(size = 12),  # Larger axis text size\n",
    "    axis.title = element_text(size = 14, face = \"bold\")  # Larger axis titles\n",
    "  ) +\n",
    "  geom_hline(yintercept = -log10(0.1), linetype = \"dashed\", color = \"blue\", linewidth = 0.7) +  # Significance threshold line\n",
    "  geom_vline(xintercept = c(-1, 1), linetype = \"dashed\", color = \"blue\", linewidth = 0.7)  # Fold-change threshold lines\n"
   ]
  },
  {
   "cell_type": "markdown",
   "id": "1eaa7150-e3e0-413d-80dc-e295348709ab",
   "metadata": {},
   "source": [
    "### Normalized Count Plot for the Top Gene"
   ]
  },
  {
   "cell_type": "code",
   "execution_count": 40,
   "id": "afc3fafc-519a-4a2f-b230-0c2c2908a9d3",
   "metadata": {},
   "outputs": [
    {
     "data": {
      "image/png": "[encoded data removed]",
      "text/plain": [
       "Plot with title “FBgn0263407”"
      ]
     },
     "metadata": {
      "image/png": {
       "height": 420,
       "width": 420
      }
     },
     "output_type": "display_data"
    }
   ],
   "source": [
    "res=res[order(abs(res$log2FoldChange),decreasing=TRUE),]\n",
    "topGene=rownames(res)[1]\n",
    "plotCounts(dds, gene=topGene, intgroup=c(\"sample_type\"))"
   ]
  },
  {
   "cell_type": "markdown",
   "id": "ef64653a-ef4d-42e7-9235-ea46556157dd",
   "metadata": {},
   "source": [
    "## GO ANALYSIS:"
   ]
  },
  {
   "cell_type": "code",
   "execution_count": 41,
   "id": "61056067-ac6c-462c-9cf8-6339ac8e292b",
   "metadata": {},
   "outputs": [
    {
     "name": "stderr",
     "output_type": "stream",
     "text": [
      "\n",
      "Attaching package: ‘AnnotationDbi’\n",
      "\n",
      "\n",
      "The following object is masked from ‘package:dplyr’:\n",
      "\n",
      "    select\n",
      "\n",
      "\n",
      "'getOption(\"repos\")' replaces Bioconductor standard repositories, see\n",
      "'help(\"repositories\", package = \"BiocManager\")' for details.\n",
      "Replacement repositories:\n",
      "    CRAN: https://cran.r-project.org\n",
      "\n",
      "Bioconductor version 3.20 (BiocManager 1.30.25), R 4.4.2 (2024-10-31)\n",
      "\n",
      "Warning message:\n",
      "“package(s) not installed when version(s) same as or greater than current; use\n",
      "  `force = TRUE` to re-install: 'org.Dm.eg.db'”\n",
      "Old packages: 'BH', 'Biostrings', 'gower', 'openssl', 'parallelly', 'pillar',\n",
      "  'survival', 'textshaping'\n",
      "\n",
      "\n",
      "\n"
     ]
    }
   ],
   "source": [
    "library(AnnotationDbi)\n",
    "BiocManager::install(\"org.Dm.eg.db\") # For Drosophila melanogaster\n",
    "library(org.Dm.eg.db)  \n"
   ]
  },
  {
   "cell_type": "code",
   "execution_count": 42,
   "id": "a8cf94cf-cbe5-42c1-b457-078e6df84a72",
   "metadata": {},
   "outputs": [
    {
     "name": "stderr",
     "output_type": "stream",
     "text": [
      "\n",
      "\n",
      "Loading required package: Category\n",
      "\n",
      "Loading required package: Matrix\n",
      "\n",
      "\n",
      "Attaching package: ‘Matrix’\n",
      "\n",
      "\n",
      "The following object is masked from ‘package:S4Vectors’:\n",
      "\n",
      "    expand\n",
      "\n",
      "\n",
      "Loading required package: graph\n",
      "\n",
      "\n",
      "Attaching package: ‘GOstats’\n",
      "\n",
      "\n",
      "The following object is masked from ‘package:AnnotationDbi’:\n",
      "\n",
      "    makeGOGraph\n",
      "\n",
      "\n"
     ]
    }
   ],
   "source": [
    "library(GO.db)\n",
    "library(GOstats)\n",
    "library(gage)"
   ]
  },
  {
   "cell_type": "code",
   "execution_count": 43,
   "id": "6a12fa36-e4ea-40eb-bb18-75c1793cd0ec",
   "metadata": {},
   "outputs": [
    {
     "data": {
      "text/html": [
       "<style>\n",
       ".list-inline {list-style: none; margin:0; padding: 0}\n",
       ".list-inline>li {display: inline-block}\n",
       ".list-inline>li:not(:last-child)::after {content: \"\\00b7\"; padding: 0 .5ex}\n",
       "</style>\n",
       "<ol class=list-inline><li>'ACCNUM'</li><li>'ALIAS'</li><li>'ENSEMBL'</li><li>'ENSEMBLPROT'</li><li>'ENSEMBLTRANS'</li><li>'ENTREZID'</li><li>'ENZYME'</li><li>'EVIDENCE'</li><li>'EVIDENCEALL'</li><li>'FLYBASE'</li><li>'FLYBASECG'</li><li>'FLYBASEPROT'</li><li>'GENENAME'</li><li>'GENETYPE'</li><li>'GO'</li><li>'GOALL'</li><li>'MAP'</li><li>'ONTOLOGY'</li><li>'ONTOLOGYALL'</li><li>'PATH'</li><li>'PMID'</li><li>'REFSEQ'</li><li>'SYMBOL'</li><li>'UNIPROT'</li></ol>\n"
      ],
      "text/latex": [
       "\\begin{enumerate*}\n",
       "\\item 'ACCNUM'\n",
       "\\item 'ALIAS'\n",
       "\\item 'ENSEMBL'\n",
       "\\item 'ENSEMBLPROT'\n",
       "\\item 'ENSEMBLTRANS'\n",
       "\\item 'ENTREZID'\n",
       "\\item 'ENZYME'\n",
       "\\item 'EVIDENCE'\n",
       "\\item 'EVIDENCEALL'\n",
       "\\item 'FLYBASE'\n",
       "\\item 'FLYBASECG'\n",
       "\\item 'FLYBASEPROT'\n",
       "\\item 'GENENAME'\n",
       "\\item 'GENETYPE'\n",
       "\\item 'GO'\n",
       "\\item 'GOALL'\n",
       "\\item 'MAP'\n",
       "\\item 'ONTOLOGY'\n",
       "\\item 'ONTOLOGYALL'\n",
       "\\item 'PATH'\n",
       "\\item 'PMID'\n",
       "\\item 'REFSEQ'\n",
       "\\item 'SYMBOL'\n",
       "\\item 'UNIPROT'\n",
       "\\end{enumerate*}\n"
      ],
      "text/markdown": [
       "1. 'ACCNUM'\n",
       "2. 'ALIAS'\n",
       "3. 'ENSEMBL'\n",
       "4. 'ENSEMBLPROT'\n",
       "5. 'ENSEMBLTRANS'\n",
       "6. 'ENTREZID'\n",
       "7. 'ENZYME'\n",
       "8. 'EVIDENCE'\n",
       "9. 'EVIDENCEALL'\n",
       "10. 'FLYBASE'\n",
       "11. 'FLYBASECG'\n",
       "12. 'FLYBASEPROT'\n",
       "13. 'GENENAME'\n",
       "14. 'GENETYPE'\n",
       "15. 'GO'\n",
       "16. 'GOALL'\n",
       "17. 'MAP'\n",
       "18. 'ONTOLOGY'\n",
       "19. 'ONTOLOGYALL'\n",
       "20. 'PATH'\n",
       "21. 'PMID'\n",
       "22. 'REFSEQ'\n",
       "23. 'SYMBOL'\n",
       "24. 'UNIPROT'\n",
       "\n",
       "\n"
      ],
      "text/plain": [
       " [1] \"ACCNUM\"       \"ALIAS\"        \"ENSEMBL\"      \"ENSEMBLPROT\"  \"ENSEMBLTRANS\"\n",
       " [6] \"ENTREZID\"     \"ENZYME\"       \"EVIDENCE\"     \"EVIDENCEALL\"  \"FLYBASE\"     \n",
       "[11] \"FLYBASECG\"    \"FLYBASEPROT\"  \"GENENAME\"     \"GENETYPE\"     \"GO\"          \n",
       "[16] \"GOALL\"        \"MAP\"          \"ONTOLOGY\"     \"ONTOLOGYALL\"  \"PATH\"        \n",
       "[21] \"PMID\"         \"REFSEQ\"       \"SYMBOL\"       \"UNIPROT\"     "
      ]
     },
     "metadata": {},
     "output_type": "display_data"
    }
   ],
   "source": [
    "columns(org.Dm.eg.db)"
   ]
  },
  {
   "cell_type": "code",
   "execution_count": 44,
   "id": "bd5f0571-1aa7-49f8-9a57-c4154cfdcd62",
   "metadata": {},
   "outputs": [
    {
     "data": {
      "text/html": [
       "<style>\n",
       ".list-inline {list-style: none; margin:0; padding: 0}\n",
       ".list-inline>li {display: inline-block}\n",
       ".list-inline>li:not(:last-child)::after {content: \"\\00b7\"; padding: 0 .5ex}\n",
       "</style>\n",
       "<ol class=list-inline><li>'FBgn0263407'</li><li>'FBgn0261399'</li><li>'FBgn0053300'</li><li>'FBgn0266070'</li><li>'FBgn0267663'</li><li>'FBgn0035845'</li></ol>\n"
      ],
      "text/latex": [
       "\\begin{enumerate*}\n",
       "\\item 'FBgn0263407'\n",
       "\\item 'FBgn0261399'\n",
       "\\item 'FBgn0053300'\n",
       "\\item 'FBgn0266070'\n",
       "\\item 'FBgn0267663'\n",
       "\\item 'FBgn0035845'\n",
       "\\end{enumerate*}\n"
      ],
      "text/markdown": [
       "1. 'FBgn0263407'\n",
       "2. 'FBgn0261399'\n",
       "3. 'FBgn0053300'\n",
       "4. 'FBgn0266070'\n",
       "5. 'FBgn0267663'\n",
       "6. 'FBgn0035845'\n",
       "\n",
       "\n"
      ],
      "text/plain": [
       "[1] \"FBgn0263407\" \"FBgn0261399\" \"FBgn0053300\" \"FBgn0266070\" \"FBgn0267663\"\n",
       "[6] \"FBgn0035845\""
      ]
     },
     "metadata": {},
     "output_type": "display_data"
    }
   ],
   "source": [
    "rownames(head(res))"
   ]
  },
  {
   "cell_type": "code",
   "execution_count": null,
   "id": "620bfb32-5005-44f4-8687-d81ca3506fa4",
   "metadata": {},
   "outputs": [],
   "source": []
  },
  {
   "cell_type": "code",
   "execution_count": 45,
   "id": "079ba017-a9b7-4070-a341-52df9549ab5c",
   "metadata": {},
   "outputs": [
    {
     "name": "stderr",
     "output_type": "stream",
     "text": [
      "'select()' returned 1:1 mapping between keys and columns\n",
      "\n"
     ]
    }
   ],
   "source": [
    "# Map FBgn IDs to Ensembl IDs\n",
    "res$ENTREZ = mapIds(org.Dm.eg.db,\n",
    "                     key = rownames(res),  # Assuming rownames(res) are FBgn IDs\n",
    "                     column = \"ENTREZID\",   # Specify the Ensembl column\n",
    "                     keytype = \"FLYBASE\",  # Specify the keytype as FLYBASE\n",
    "                     multiVals = \"first\")  # Handle multiple matches by taking the first match\n"
   ]
  },
  {
   "cell_type": "code",
   "execution_count": 46,
   "id": "64240203-96b9-47e6-a972-41ec82a5baa1",
   "metadata": {},
   "outputs": [
    {
     "name": "stderr",
     "output_type": "stream",
     "text": [
      "'select()' returned 1:1 mapping between keys and columns\n",
      "\n"
     ]
    }
   ],
   "source": [
    "res$SYMBOL = mapIds(org.Dm.eg.db,\n",
    "                    key=rownames(res),\n",
    "                    column=\"SYMBOL\",\n",
    "                    keytype=\"FLYBASE\",\n",
    "                    multiVals=\"first\")"
   ]
  },
  {
   "cell_type": "code",
   "execution_count": 47,
   "id": "0cfdb424-67df-4608-901c-6ba1a3b232c9",
   "metadata": {
    "scrolled": true
   },
   "outputs": [
    {
     "data": {
      "text/plain": [
       "log2 fold change (MLE): sample type treatment vs control \n",
       "Wald test p-value: sample type treatment vs control \n",
       "DataFrame with 6 rows and 8 columns\n",
       "             baseMean log2FoldChange     lfcSE      stat      pvalue\n",
       "            <numeric>      <numeric> <numeric> <numeric>   <numeric>\n",
       "FBgn0263407  186.4330      -11.21204   1.50016  -7.47392 7.79388e-14\n",
       "FBgn0261399  235.7716       11.10903   1.48313   7.49027 6.88198e-14\n",
       "FBgn0053300  119.7278      -10.57336   1.50571  -7.02219 2.18661e-12\n",
       "FBgn0266070  107.0638        9.96861   1.51273   6.58982 4.40789e-11\n",
       "FBgn0267663   43.2547       -9.10615   1.58908  -5.73044 1.00238e-08\n",
       "FBgn0035845 1283.9707       -8.93338   1.15271  -7.74986 9.22022e-15\n",
       "                   padj      ENTREZ         SYMBOL\n",
       "              <numeric> <character>    <character>\n",
       "FBgn0263407 9.82596e-12    12798501 lncRNA:CR43453\n",
       "FBgn0261399 8.82015e-12     5740113         Pp1-Y1\n",
       "FBgn0053300 2.19739e-10     2768931         Muc30E\n",
       "FBgn0266070 3.82053e-09    19834998 lncRNA:CR44823\n",
       "FBgn0267663 6.20578e-07    26067322 lncRNA:CR46001\n",
       "FBgn0035845 1.33194e-12       38907        CG13675"
      ]
     },
     "metadata": {},
     "output_type": "display_data"
    }
   ],
   "source": [
    "head(res)"
   ]
  },
  {
   "cell_type": "markdown",
   "id": "907f7710-83d3-4da0-96e5-cd9d3a8ad274",
   "metadata": {},
   "source": [
    "## SDEG hypergeometric test"
   ]
  },
  {
   "cell_type": "code",
   "execution_count": 48,
   "id": "5fb66c79-7a7c-4fa3-8e88-8eac87830d56",
   "metadata": {},
   "outputs": [
    {
     "data": {
      "text/html": [
       "<table class=\"dataframe\">\n",
       "<caption>A data.frame: 6 × 8</caption>\n",
       "<thead>\n",
       "\t<tr><th></th><th scope=col>baseMean</th><th scope=col>log2FoldChange</th><th scope=col>lfcSE</th><th scope=col>stat</th><th scope=col>pvalue</th><th scope=col>padj</th><th scope=col>ENTREZ</th><th scope=col>SYMBOL</th></tr>\n",
       "\t<tr><th></th><th scope=col>&lt;dbl&gt;</th><th scope=col>&lt;dbl&gt;</th><th scope=col>&lt;dbl&gt;</th><th scope=col>&lt;dbl&gt;</th><th scope=col>&lt;dbl&gt;</th><th scope=col>&lt;dbl&gt;</th><th scope=col>&lt;chr&gt;</th><th scope=col>&lt;chr&gt;</th></tr>\n",
       "</thead>\n",
       "<tbody>\n",
       "\t<tr><th scope=row>FBgn0263407</th><td> 186.43302</td><td>-11.212043</td><td>1.500156</td><td>-7.473920</td><td>7.793883e-14</td><td>9.825961e-12</td><td>12798501</td><td>lncRNA:CR43453</td></tr>\n",
       "\t<tr><th scope=row>FBgn0261399</th><td> 235.77158</td><td> 11.109027</td><td>1.483127</td><td> 7.490273</td><td>6.881975e-14</td><td>8.820147e-12</td><td>5740113 </td><td>Pp1-Y1        </td></tr>\n",
       "\t<tr><th scope=row>FBgn0053300</th><td> 119.72783</td><td>-10.573362</td><td>1.505707</td><td>-7.022189</td><td>2.186612e-12</td><td>2.197387e-10</td><td>2768931 </td><td>Muc30E        </td></tr>\n",
       "\t<tr><th scope=row>FBgn0266070</th><td> 107.06385</td><td>  9.968609</td><td>1.512729</td><td> 6.589820</td><td>4.407885e-11</td><td>3.820535e-09</td><td>19834998</td><td>lncRNA:CR44823</td></tr>\n",
       "\t<tr><th scope=row>FBgn0267663</th><td>  43.25472</td><td> -9.106148</td><td>1.589084</td><td>-5.730440</td><td>1.002376e-08</td><td>6.205783e-07</td><td>26067322</td><td>lncRNA:CR46001</td></tr>\n",
       "\t<tr><th scope=row>FBgn0035845</th><td>1283.97072</td><td> -8.933378</td><td>1.152714</td><td>-7.749864</td><td>9.220217e-15</td><td>1.331937e-12</td><td>38907   </td><td>CG13675       </td></tr>\n",
       "</tbody>\n",
       "</table>\n"
      ],
      "text/latex": [
       "A data.frame: 6 × 8\n",
       "\\begin{tabular}{r|llllllll}\n",
       "  & baseMean & log2FoldChange & lfcSE & stat & pvalue & padj & ENTREZ & SYMBOL\\\\\n",
       "  & <dbl> & <dbl> & <dbl> & <dbl> & <dbl> & <dbl> & <chr> & <chr>\\\\\n",
       "\\hline\n",
       "\tFBgn0263407 &  186.43302 & -11.212043 & 1.500156 & -7.473920 & 7.793883e-14 & 9.825961e-12 & 12798501 & lncRNA:CR43453\\\\\n",
       "\tFBgn0261399 &  235.77158 &  11.109027 & 1.483127 &  7.490273 & 6.881975e-14 & 8.820147e-12 & 5740113  & Pp1-Y1        \\\\\n",
       "\tFBgn0053300 &  119.72783 & -10.573362 & 1.505707 & -7.022189 & 2.186612e-12 & 2.197387e-10 & 2768931  & Muc30E        \\\\\n",
       "\tFBgn0266070 &  107.06385 &   9.968609 & 1.512729 &  6.589820 & 4.407885e-11 & 3.820535e-09 & 19834998 & lncRNA:CR44823\\\\\n",
       "\tFBgn0267663 &   43.25472 &  -9.106148 & 1.589084 & -5.730440 & 1.002376e-08 & 6.205783e-07 & 26067322 & lncRNA:CR46001\\\\\n",
       "\tFBgn0035845 & 1283.97072 &  -8.933378 & 1.152714 & -7.749864 & 9.220217e-15 & 1.331937e-12 & 38907    & CG13675       \\\\\n",
       "\\end{tabular}\n"
      ],
      "text/markdown": [
       "\n",
       "A data.frame: 6 × 8\n",
       "\n",
       "| <!--/--> | baseMean &lt;dbl&gt; | log2FoldChange &lt;dbl&gt; | lfcSE &lt;dbl&gt; | stat &lt;dbl&gt; | pvalue &lt;dbl&gt; | padj &lt;dbl&gt; | ENTREZ &lt;chr&gt; | SYMBOL &lt;chr&gt; |\n",
       "|---|---|---|---|---|---|---|---|---|\n",
       "| FBgn0263407 |  186.43302 | -11.212043 | 1.500156 | -7.473920 | 7.793883e-14 | 9.825961e-12 | 12798501 | lncRNA:CR43453 |\n",
       "| FBgn0261399 |  235.77158 |  11.109027 | 1.483127 |  7.490273 | 6.881975e-14 | 8.820147e-12 | 5740113  | Pp1-Y1         |\n",
       "| FBgn0053300 |  119.72783 | -10.573362 | 1.505707 | -7.022189 | 2.186612e-12 | 2.197387e-10 | 2768931  | Muc30E         |\n",
       "| FBgn0266070 |  107.06385 |   9.968609 | 1.512729 |  6.589820 | 4.407885e-11 | 3.820535e-09 | 19834998 | lncRNA:CR44823 |\n",
       "| FBgn0267663 |   43.25472 |  -9.106148 | 1.589084 | -5.730440 | 1.002376e-08 | 6.205783e-07 | 26067322 | lncRNA:CR46001 |\n",
       "| FBgn0035845 | 1283.97072 |  -8.933378 | 1.152714 | -7.749864 | 9.220217e-15 | 1.331937e-12 | 38907    | CG13675        |\n",
       "\n"
      ],
      "text/plain": [
       "            baseMean   log2FoldChange lfcSE    stat      pvalue      \n",
       "FBgn0263407  186.43302 -11.212043     1.500156 -7.473920 7.793883e-14\n",
       "FBgn0261399  235.77158  11.109027     1.483127  7.490273 6.881975e-14\n",
       "FBgn0053300  119.72783 -10.573362     1.505707 -7.022189 2.186612e-12\n",
       "FBgn0266070  107.06385   9.968609     1.512729  6.589820 4.407885e-11\n",
       "FBgn0267663   43.25472  -9.106148     1.589084 -5.730440 1.002376e-08\n",
       "FBgn0035845 1283.97072  -8.933378     1.152714 -7.749864 9.220217e-15\n",
       "            padj         ENTREZ   SYMBOL        \n",
       "FBgn0263407 9.825961e-12 12798501 lncRNA:CR43453\n",
       "FBgn0261399 8.820147e-12 5740113  Pp1-Y1        \n",
       "FBgn0053300 2.197387e-10 2768931  Muc30E        \n",
       "FBgn0266070 3.820535e-09 19834998 lncRNA:CR44823\n",
       "FBgn0267663 6.205783e-07 26067322 lncRNA:CR46001\n",
       "FBgn0035845 1.331937e-12 38907    CG13675       "
      ]
     },
     "metadata": {},
     "output_type": "display_data"
    }
   ],
   "source": [
    "res_05=as.data.frame(subset(res,padj<0.05))\n",
    "head(res_05)"
   ]
  },
  {
   "cell_type": "code",
   "execution_count": 49,
   "id": "8b7121c3-6253-42c3-bf13-cfdeef41513b",
   "metadata": {},
   "outputs": [],
   "source": [
    "sig_lfc=1\n",
    "selectGenesUp = unique(res_05[res_05$log2FoldChange > sig_lfc,\"ENTREZ\"])\n",
    "selectGenesDn = unique(res_05[res_05$log2FoldChange < (-sig_lfc),\"ENTREZ\"])\n",
    "universeGenes = unique(res_05$ENTREZ)\n",
    "\n"
   ]
  },
  {
   "cell_type": "code",
   "execution_count": 50,
   "id": "cab96f1d-ab07-4a1b-b265-46fad5df043b",
   "metadata": {},
   "outputs": [
    {
     "data": {
      "text/html": [
       "1081"
      ],
      "text/latex": [
       "1081"
      ],
      "text/markdown": [
       "1081"
      ],
      "text/plain": [
       "[1] 1081"
      ]
     },
     "metadata": {},
     "output_type": "display_data"
    },
    {
     "data": {
      "text/html": [
       "<style>\n",
       ".list-inline {list-style: none; margin:0; padding: 0}\n",
       ".list-inline>li {display: inline-block}\n",
       ".list-inline>li:not(:last-child)::after {content: \"\\00b7\"; padding: 0 .5ex}\n",
       "</style>\n",
       "<ol class=list-inline><li>-11.2120429505963</li><li>11.109026668946</li></ol>\n"
      ],
      "text/latex": [
       "\\begin{enumerate*}\n",
       "\\item -11.2120429505963\n",
       "\\item 11.109026668946\n",
       "\\end{enumerate*}\n"
      ],
      "text/markdown": [
       "1. -11.2120429505963\n",
       "2. 11.109026668946\n",
       "\n",
       "\n"
      ],
      "text/plain": [
       "[1] -11.21204  11.10903"
      ]
     },
     "metadata": {},
     "output_type": "display_data"
    }
   ],
   "source": [
    "dim(res_05)[1]\n",
    "range(res_05$log2FoldChange)\n"
   ]
  },
  {
   "cell_type": "code",
   "execution_count": 51,
   "id": "9ab05529-8888-436d-b103-5605bbf6e910",
   "metadata": {},
   "outputs": [
    {
     "data": {
      "text/html": [
       "152"
      ],
      "text/latex": [
       "152"
      ],
      "text/markdown": [
       "152"
      ],
      "text/plain": [
       "[1] 152"
      ]
     },
     "metadata": {},
     "output_type": "display_data"
    },
    {
     "data": {
      "text/html": [
       "679"
      ],
      "text/latex": [
       "679"
      ],
      "text/markdown": [
       "679"
      ],
      "text/plain": [
       "[1] 679"
      ]
     },
     "metadata": {},
     "output_type": "display_data"
    }
   ],
   "source": [
    "length(selectGenesUp)\n",
    "length(selectGenesDn)"
   ]
  },
  {
   "cell_type": "markdown",
   "id": "1220fe7b-9011-411d-8234-488b3cfabec9",
   "metadata": {},
   "source": [
    "### GO Biological Process:"
   ]
  },
  {
   "cell_type": "code",
   "execution_count": 52,
   "id": "29b9e238-74f4-4be2-b57b-cb45ddf7edf8",
   "metadata": {},
   "outputs": [],
   "source": [
    "upParams = new(\"GOHyperGParams\",\n",
    "               geneIds = selectGenesUp,\n",
    "               universeGeneIds = universeGenes,\n",
    "               annotation = \"org.Dm.eg.db\",\n",
    "               ontology = \"BP\",\n",
    "               pvalueCutoff = 0.01,\n",
    "               conditional = FALSE,\n",
    "               testDirection = \"over\")\n",
    "\n",
    "dnParams = new(\"GOHyperGParams\",\n",
    "               geneIds = selectGenesDn,\n",
    "               universeGeneIds = universeGenes,\n",
    "               annotation = \"org.Dm.eg.db\",\n",
    "               ontology = \"BP\",\n",
    "               pvalueCutoff = 0.01,\n",
    "               conditional = FALSE,\n",
    "               testDirection = \"over\")\n",
    "\n",
    "upBp = hyperGTest(upParams)\n",
    "dnBp = hyperGTest(dnParams)"
   ]
  },
  {
   "cell_type": "code",
   "execution_count": null,
   "id": "35794563-58d4-43dc-b398-52271580bd60",
   "metadata": {},
   "outputs": [],
   "source": [
    "\n"
   ]
  },
  {
   "cell_type": "code",
   "execution_count": 53,
   "id": "b81ee9f6-0459-488c-a8ee-434916859d05",
   "metadata": {},
   "outputs": [
    {
     "data": {
      "text/html": [
       "<table class=\"dataframe\">\n",
       "<caption>A data.frame: 10 × 7</caption>\n",
       "<thead>\n",
       "\t<tr><th></th><th scope=col>GOBPID</th><th scope=col>Pvalue</th><th scope=col>OddsRatio</th><th scope=col>ExpCount</th><th scope=col>Count</th><th scope=col>Size</th><th scope=col>Term</th></tr>\n",
       "\t<tr><th></th><th scope=col>&lt;chr&gt;</th><th scope=col>&lt;dbl&gt;</th><th scope=col>&lt;dbl&gt;</th><th scope=col>&lt;dbl&gt;</th><th scope=col>&lt;int&gt;</th><th scope=col>&lt;int&gt;</th><th scope=col>&lt;chr&gt;</th></tr>\n",
       "</thead>\n",
       "<tbody>\n",
       "\t<tr><th scope=row>1</th><td>GO:0090304</td><td>0.0001087850</td><td> 2.872810</td><td>13.058405</td><td>26</td><td>103</td><td>nucleic acid metabolic process                  </td></tr>\n",
       "\t<tr><th scope=row>2</th><td>GO:0043170</td><td>0.0002857317</td><td> 2.284441</td><td>28.018519</td><td>43</td><td>221</td><td>macromolecule metabolic process                 </td></tr>\n",
       "\t<tr><th scope=row>3</th><td>GO:0050794</td><td>0.0005117877</td><td> 2.273786</td><td>22.440171</td><td>36</td><td>177</td><td>regulation of cellular process                  </td></tr>\n",
       "\t<tr><th scope=row>4</th><td>GO:0006139</td><td>0.0008023183</td><td> 2.429820</td><td>14.579772</td><td>26</td><td>115</td><td>nucleobase-containing compound metabolic process</td></tr>\n",
       "\t<tr><th scope=row>5</th><td>GO:0051716</td><td>0.0008465448</td><td> 2.649127</td><td>10.776353</td><td>21</td><td> 85</td><td>cellular response to stimulus                   </td></tr>\n",
       "\t<tr><th scope=row>6</th><td>GO:0051093</td><td>0.0012089516</td><td>12.103175</td><td> 1.014245</td><td> 5</td><td>  8</td><td>negative regulation of developmental process    </td></tr>\n",
       "\t<tr><th scope=row>7</th><td>GO:0048522</td><td>0.0012106665</td><td> 2.843381</td><td> 8.113960</td><td>17</td><td> 64</td><td>positive regulation of cellular process         </td></tr>\n",
       "\t<tr><th scope=row>8</th><td>GO:0031323</td><td>0.0014026244</td><td> 2.516681</td><td>11.156695</td><td>21</td><td> 88</td><td>regulation of cellular metabolic process        </td></tr>\n",
       "\t<tr><th scope=row>9</th><td>GO:0006259</td><td>0.0017043505</td><td> 4.946502</td><td> 2.535613</td><td> 8</td><td> 20</td><td>DNA metabolic process                           </td></tr>\n",
       "\t<tr><th scope=row>10</th><td>GO:0007606</td><td>0.0018326653</td><td> 5.728997</td><td> 2.028490</td><td> 7</td><td> 16</td><td>sensory perception of chemical stimulus         </td></tr>\n",
       "</tbody>\n",
       "</table>\n"
      ],
      "text/latex": [
       "A data.frame: 10 × 7\n",
       "\\begin{tabular}{r|lllllll}\n",
       "  & GOBPID & Pvalue & OddsRatio & ExpCount & Count & Size & Term\\\\\n",
       "  & <chr> & <dbl> & <dbl> & <dbl> & <int> & <int> & <chr>\\\\\n",
       "\\hline\n",
       "\t1 & GO:0090304 & 0.0001087850 &  2.872810 & 13.058405 & 26 & 103 & nucleic acid metabolic process                  \\\\\n",
       "\t2 & GO:0043170 & 0.0002857317 &  2.284441 & 28.018519 & 43 & 221 & macromolecule metabolic process                 \\\\\n",
       "\t3 & GO:0050794 & 0.0005117877 &  2.273786 & 22.440171 & 36 & 177 & regulation of cellular process                  \\\\\n",
       "\t4 & GO:0006139 & 0.0008023183 &  2.429820 & 14.579772 & 26 & 115 & nucleobase-containing compound metabolic process\\\\\n",
       "\t5 & GO:0051716 & 0.0008465448 &  2.649127 & 10.776353 & 21 &  85 & cellular response to stimulus                   \\\\\n",
       "\t6 & GO:0051093 & 0.0012089516 & 12.103175 &  1.014245 &  5 &   8 & negative regulation of developmental process    \\\\\n",
       "\t7 & GO:0048522 & 0.0012106665 &  2.843381 &  8.113960 & 17 &  64 & positive regulation of cellular process         \\\\\n",
       "\t8 & GO:0031323 & 0.0014026244 &  2.516681 & 11.156695 & 21 &  88 & regulation of cellular metabolic process        \\\\\n",
       "\t9 & GO:0006259 & 0.0017043505 &  4.946502 &  2.535613 &  8 &  20 & DNA metabolic process                           \\\\\n",
       "\t10 & GO:0007606 & 0.0018326653 &  5.728997 &  2.028490 &  7 &  16 & sensory perception of chemical stimulus         \\\\\n",
       "\\end{tabular}\n"
      ],
      "text/markdown": [
       "\n",
       "A data.frame: 10 × 7\n",
       "\n",
       "| <!--/--> | GOBPID &lt;chr&gt; | Pvalue &lt;dbl&gt; | OddsRatio &lt;dbl&gt; | ExpCount &lt;dbl&gt; | Count &lt;int&gt; | Size &lt;int&gt; | Term &lt;chr&gt; |\n",
       "|---|---|---|---|---|---|---|---|\n",
       "| 1 | GO:0090304 | 0.0001087850 |  2.872810 | 13.058405 | 26 | 103 | nucleic acid metabolic process                   |\n",
       "| 2 | GO:0043170 | 0.0002857317 |  2.284441 | 28.018519 | 43 | 221 | macromolecule metabolic process                  |\n",
       "| 3 | GO:0050794 | 0.0005117877 |  2.273786 | 22.440171 | 36 | 177 | regulation of cellular process                   |\n",
       "| 4 | GO:0006139 | 0.0008023183 |  2.429820 | 14.579772 | 26 | 115 | nucleobase-containing compound metabolic process |\n",
       "| 5 | GO:0051716 | 0.0008465448 |  2.649127 | 10.776353 | 21 |  85 | cellular response to stimulus                    |\n",
       "| 6 | GO:0051093 | 0.0012089516 | 12.103175 |  1.014245 |  5 |   8 | negative regulation of developmental process     |\n",
       "| 7 | GO:0048522 | 0.0012106665 |  2.843381 |  8.113960 | 17 |  64 | positive regulation of cellular process          |\n",
       "| 8 | GO:0031323 | 0.0014026244 |  2.516681 | 11.156695 | 21 |  88 | regulation of cellular metabolic process         |\n",
       "| 9 | GO:0006259 | 0.0017043505 |  4.946502 |  2.535613 |  8 |  20 | DNA metabolic process                            |\n",
       "| 10 | GO:0007606 | 0.0018326653 |  5.728997 |  2.028490 |  7 |  16 | sensory perception of chemical stimulus          |\n",
       "\n"
      ],
      "text/plain": [
       "   GOBPID     Pvalue       OddsRatio ExpCount  Count Size\n",
       "1  GO:0090304 0.0001087850  2.872810 13.058405 26    103 \n",
       "2  GO:0043170 0.0002857317  2.284441 28.018519 43    221 \n",
       "3  GO:0050794 0.0005117877  2.273786 22.440171 36    177 \n",
       "4  GO:0006139 0.0008023183  2.429820 14.579772 26    115 \n",
       "5  GO:0051716 0.0008465448  2.649127 10.776353 21     85 \n",
       "6  GO:0051093 0.0012089516 12.103175  1.014245  5      8 \n",
       "7  GO:0048522 0.0012106665  2.843381  8.113960 17     64 \n",
       "8  GO:0031323 0.0014026244  2.516681 11.156695 21     88 \n",
       "9  GO:0006259 0.0017043505  4.946502  2.535613  8     20 \n",
       "10 GO:0007606 0.0018326653  5.728997  2.028490  7     16 \n",
       "   Term                                            \n",
       "1  nucleic acid metabolic process                  \n",
       "2  macromolecule metabolic process                 \n",
       "3  regulation of cellular process                  \n",
       "4  nucleobase-containing compound metabolic process\n",
       "5  cellular response to stimulus                   \n",
       "6  negative regulation of developmental process    \n",
       "7  positive regulation of cellular process         \n",
       "8  regulation of cellular metabolic process        \n",
       "9  DNA metabolic process                           \n",
       "10 sensory perception of chemical stimulus         "
      ]
     },
     "metadata": {},
     "output_type": "display_data"
    }
   ],
   "source": [
    "summary(upBp)[1:10,]"
   ]
  },
  {
   "cell_type": "code",
   "execution_count": 54,
   "id": "412a61d5-c9da-447c-878e-aa3d0bf3e334",
   "metadata": {},
   "outputs": [
    {
     "data": {
      "text/html": [
       "<table class=\"dataframe\">\n",
       "<caption>A data.frame: 10 × 7</caption>\n",
       "<thead>\n",
       "\t<tr><th></th><th scope=col>GOBPID</th><th scope=col>Pvalue</th><th scope=col>OddsRatio</th><th scope=col>ExpCount</th><th scope=col>Count</th><th scope=col>Size</th><th scope=col>Term</th></tr>\n",
       "\t<tr><th></th><th scope=col>&lt;chr&gt;</th><th scope=col>&lt;dbl&gt;</th><th scope=col>&lt;dbl&gt;</th><th scope=col>&lt;dbl&gt;</th><th scope=col>&lt;int&gt;</th><th scope=col>&lt;int&gt;</th><th scope=col>&lt;chr&gt;</th></tr>\n",
       "</thead>\n",
       "<tbody>\n",
       "\t<tr><th scope=row>1</th><td>GO:0045924</td><td>8.541596e-05</td><td>      Inf</td><td>  9.880342</td><td> 17</td><td> 17</td><td>regulation of female receptivity             </td></tr>\n",
       "\t<tr><th scope=row>2</th><td>GO:0060180</td><td>8.541596e-05</td><td>      Inf</td><td>  9.880342</td><td> 17</td><td> 17</td><td>female mating behavior                       </td></tr>\n",
       "\t<tr><th scope=row>3</th><td>GO:0046692</td><td>4.562821e-04</td><td>      Inf</td><td>  8.136752</td><td> 14</td><td> 14</td><td>sperm competition                            </td></tr>\n",
       "\t<tr><th scope=row>4</th><td>GO:0046008</td><td>7.958947e-04</td><td>      Inf</td><td>  7.555556</td><td> 13</td><td> 13</td><td>regulation of female receptivity, post-mating</td></tr>\n",
       "\t<tr><th scope=row>5</th><td>GO:0019953</td><td>9.709946e-04</td><td> 1.749826</td><td>111.589744</td><td>130</td><td>192</td><td>sexual reproduction                          </td></tr>\n",
       "\t<tr><th scope=row>6</th><td>GO:0044703</td><td>1.938649e-03</td><td>11.183206</td><td>  9.299145</td><td> 15</td><td> 16</td><td>multi-organism reproductive process          </td></tr>\n",
       "\t<tr><th scope=row>7</th><td>GO:0007320</td><td>3.186017e-03</td><td>10.411168</td><td>  8.717949</td><td> 14</td><td> 15</td><td>insemination                                 </td></tr>\n",
       "\t<tr><th scope=row>8</th><td>GO:0007620</td><td>3.186017e-03</td><td>10.411168</td><td>  8.717949</td><td> 14</td><td> 15</td><td>copulation                                   </td></tr>\n",
       "\t<tr><th scope=row>9</th><td>GO:0044706</td><td>3.186017e-03</td><td>10.411168</td><td>  8.717949</td><td> 14</td><td> 15</td><td>multi-multicellular organism process         </td></tr>\n",
       "\t<tr><th scope=row>10</th><td>GO:0006629</td><td>3.575362e-03</td><td> 2.786667</td><td> 24.410256</td><td> 33</td><td> 42</td><td>lipid metabolic process                      </td></tr>\n",
       "</tbody>\n",
       "</table>\n"
      ],
      "text/latex": [
       "A data.frame: 10 × 7\n",
       "\\begin{tabular}{r|lllllll}\n",
       "  & GOBPID & Pvalue & OddsRatio & ExpCount & Count & Size & Term\\\\\n",
       "  & <chr> & <dbl> & <dbl> & <dbl> & <int> & <int> & <chr>\\\\\n",
       "\\hline\n",
       "\t1 & GO:0045924 & 8.541596e-05 &       Inf &   9.880342 &  17 &  17 & regulation of female receptivity             \\\\\n",
       "\t2 & GO:0060180 & 8.541596e-05 &       Inf &   9.880342 &  17 &  17 & female mating behavior                       \\\\\n",
       "\t3 & GO:0046692 & 4.562821e-04 &       Inf &   8.136752 &  14 &  14 & sperm competition                            \\\\\n",
       "\t4 & GO:0046008 & 7.958947e-04 &       Inf &   7.555556 &  13 &  13 & regulation of female receptivity, post-mating\\\\\n",
       "\t5 & GO:0019953 & 9.709946e-04 &  1.749826 & 111.589744 & 130 & 192 & sexual reproduction                          \\\\\n",
       "\t6 & GO:0044703 & 1.938649e-03 & 11.183206 &   9.299145 &  15 &  16 & multi-organism reproductive process          \\\\\n",
       "\t7 & GO:0007320 & 3.186017e-03 & 10.411168 &   8.717949 &  14 &  15 & insemination                                 \\\\\n",
       "\t8 & GO:0007620 & 3.186017e-03 & 10.411168 &   8.717949 &  14 &  15 & copulation                                   \\\\\n",
       "\t9 & GO:0044706 & 3.186017e-03 & 10.411168 &   8.717949 &  14 &  15 & multi-multicellular organism process         \\\\\n",
       "\t10 & GO:0006629 & 3.575362e-03 &  2.786667 &  24.410256 &  33 &  42 & lipid metabolic process                      \\\\\n",
       "\\end{tabular}\n"
      ],
      "text/markdown": [
       "\n",
       "A data.frame: 10 × 7\n",
       "\n",
       "| <!--/--> | GOBPID &lt;chr&gt; | Pvalue &lt;dbl&gt; | OddsRatio &lt;dbl&gt; | ExpCount &lt;dbl&gt; | Count &lt;int&gt; | Size &lt;int&gt; | Term &lt;chr&gt; |\n",
       "|---|---|---|---|---|---|---|---|\n",
       "| 1 | GO:0045924 | 8.541596e-05 |       Inf |   9.880342 |  17 |  17 | regulation of female receptivity              |\n",
       "| 2 | GO:0060180 | 8.541596e-05 |       Inf |   9.880342 |  17 |  17 | female mating behavior                        |\n",
       "| 3 | GO:0046692 | 4.562821e-04 |       Inf |   8.136752 |  14 |  14 | sperm competition                             |\n",
       "| 4 | GO:0046008 | 7.958947e-04 |       Inf |   7.555556 |  13 |  13 | regulation of female receptivity, post-mating |\n",
       "| 5 | GO:0019953 | 9.709946e-04 |  1.749826 | 111.589744 | 130 | 192 | sexual reproduction                           |\n",
       "| 6 | GO:0044703 | 1.938649e-03 | 11.183206 |   9.299145 |  15 |  16 | multi-organism reproductive process           |\n",
       "| 7 | GO:0007320 | 3.186017e-03 | 10.411168 |   8.717949 |  14 |  15 | insemination                                  |\n",
       "| 8 | GO:0007620 | 3.186017e-03 | 10.411168 |   8.717949 |  14 |  15 | copulation                                    |\n",
       "| 9 | GO:0044706 | 3.186017e-03 | 10.411168 |   8.717949 |  14 |  15 | multi-multicellular organism process          |\n",
       "| 10 | GO:0006629 | 3.575362e-03 |  2.786667 |  24.410256 |  33 |  42 | lipid metabolic process                       |\n",
       "\n"
      ],
      "text/plain": [
       "   GOBPID     Pvalue       OddsRatio ExpCount   Count Size\n",
       "1  GO:0045924 8.541596e-05       Inf   9.880342  17    17 \n",
       "2  GO:0060180 8.541596e-05       Inf   9.880342  17    17 \n",
       "3  GO:0046692 4.562821e-04       Inf   8.136752  14    14 \n",
       "4  GO:0046008 7.958947e-04       Inf   7.555556  13    13 \n",
       "5  GO:0019953 9.709946e-04  1.749826 111.589744 130   192 \n",
       "6  GO:0044703 1.938649e-03 11.183206   9.299145  15    16 \n",
       "7  GO:0007320 3.186017e-03 10.411168   8.717949  14    15 \n",
       "8  GO:0007620 3.186017e-03 10.411168   8.717949  14    15 \n",
       "9  GO:0044706 3.186017e-03 10.411168   8.717949  14    15 \n",
       "10 GO:0006629 3.575362e-03  2.786667  24.410256  33    42 \n",
       "   Term                                         \n",
       "1  regulation of female receptivity             \n",
       "2  female mating behavior                       \n",
       "3  sperm competition                            \n",
       "4  regulation of female receptivity, post-mating\n",
       "5  sexual reproduction                          \n",
       "6  multi-organism reproductive process          \n",
       "7  insemination                                 \n",
       "8  copulation                                   \n",
       "9  multi-multicellular organism process         \n",
       "10 lipid metabolic process                      "
      ]
     },
     "metadata": {},
     "output_type": "display_data"
    }
   ],
   "source": [
    "summary(dnBp)[1:10,]"
   ]
  },
  {
   "cell_type": "markdown",
   "id": "3912e7e4-9577-436c-90d0-0212ef2ec76e",
   "metadata": {},
   "source": [
    "### GO Cellular Component:"
   ]
  },
  {
   "cell_type": "code",
   "execution_count": 55,
   "id": "aaa9bac0-36b8-4eec-80d7-b7abecab3236",
   "metadata": {},
   "outputs": [],
   "source": [
    "upParams = new(\"GOHyperGParams\",\n",
    "               geneIds = selectGenesUp,\n",
    "               universeGeneIds = universeGenes,\n",
    "               annotation = \"org.Dm.eg.db\",\n",
    "               ontology = \"CC\", # cellular components\n",
    "               pvalueCutoff = 0.01,\n",
    "               conditional = FALSE,\n",
    "               testDirection = \"over\")\n",
    "\n",
    "dnParams = new(\"GOHyperGParams\",\n",
    "               geneIds = selectGenesDn,\n",
    "               universeGeneIds = universeGenes,\n",
    "               annotation = \"org.Dm.eg.db\",\n",
    "               ontology = \"CC\",\n",
    "               pvalueCutoff = 0.01,\n",
    "               conditional = FALSE,\n",
    "               testDirection = \"over\")\n",
    "\n",
    "upCC = hyperGTest(upParams)\n",
    "dnCC = hyperGTest(dnParams)"
   ]
  },
  {
   "cell_type": "code",
   "execution_count": 56,
   "id": "3e3a2d7e-bdaf-4086-b79d-7ee73d45d1b0",
   "metadata": {},
   "outputs": [
    {
     "data": {
      "text/html": [
       "<table class=\"dataframe\">\n",
       "<caption>A data.frame: 5 × 7</caption>\n",
       "<thead>\n",
       "\t<tr><th></th><th scope=col>GOCCID</th><th scope=col>Pvalue</th><th scope=col>OddsRatio</th><th scope=col>ExpCount</th><th scope=col>Count</th><th scope=col>Size</th><th scope=col>Term</th></tr>\n",
       "\t<tr><th></th><th scope=col>&lt;chr&gt;</th><th scope=col>&lt;dbl&gt;</th><th scope=col>&lt;dbl&gt;</th><th scope=col>&lt;dbl&gt;</th><th scope=col>&lt;int&gt;</th><th scope=col>&lt;int&gt;</th><th scope=col>&lt;chr&gt;</th></tr>\n",
       "</thead>\n",
       "<tbody>\n",
       "\t<tr><th scope=row>1</th><td>GO:0032991</td><td>0.0001548667</td><td>2.703448</td><td>14.835905</td><td>28</td><td>123</td><td>protein-containing complex              </td></tr>\n",
       "\t<tr><th scope=row>2</th><td>GO:0005634</td><td>0.0021556880</td><td>2.172414</td><td>17.127630</td><td>28</td><td>142</td><td>nucleus                                 </td></tr>\n",
       "\t<tr><th scope=row>3</th><td>GO:0140535</td><td>0.0025066520</td><td>4.490842</td><td> 2.653576</td><td> 8</td><td> 22</td><td>intracellular protein-containing complex</td></tr>\n",
       "\t<tr><th scope=row>4</th><td>GO:1990234</td><td>0.0076404521</td><td>4.627500</td><td> 1.929874</td><td> 6</td><td> 16</td><td>transferase complex                     </td></tr>\n",
       "\t<tr><th scope=row>5</th><td>GO:0005886</td><td>0.0085012825</td><td>2.285714</td><td> 8.805049</td><td>16</td><td> 73</td><td>plasma membrane                         </td></tr>\n",
       "</tbody>\n",
       "</table>\n"
      ],
      "text/latex": [
       "A data.frame: 5 × 7\n",
       "\\begin{tabular}{r|lllllll}\n",
       "  & GOCCID & Pvalue & OddsRatio & ExpCount & Count & Size & Term\\\\\n",
       "  & <chr> & <dbl> & <dbl> & <dbl> & <int> & <int> & <chr>\\\\\n",
       "\\hline\n",
       "\t1 & GO:0032991 & 0.0001548667 & 2.703448 & 14.835905 & 28 & 123 & protein-containing complex              \\\\\n",
       "\t2 & GO:0005634 & 0.0021556880 & 2.172414 & 17.127630 & 28 & 142 & nucleus                                 \\\\\n",
       "\t3 & GO:0140535 & 0.0025066520 & 4.490842 &  2.653576 &  8 &  22 & intracellular protein-containing complex\\\\\n",
       "\t4 & GO:1990234 & 0.0076404521 & 4.627500 &  1.929874 &  6 &  16 & transferase complex                     \\\\\n",
       "\t5 & GO:0005886 & 0.0085012825 & 2.285714 &  8.805049 & 16 &  73 & plasma membrane                         \\\\\n",
       "\\end{tabular}\n"
      ],
      "text/markdown": [
       "\n",
       "A data.frame: 5 × 7\n",
       "\n",
       "| <!--/--> | GOCCID &lt;chr&gt; | Pvalue &lt;dbl&gt; | OddsRatio &lt;dbl&gt; | ExpCount &lt;dbl&gt; | Count &lt;int&gt; | Size &lt;int&gt; | Term &lt;chr&gt; |\n",
       "|---|---|---|---|---|---|---|---|\n",
       "| 1 | GO:0032991 | 0.0001548667 | 2.703448 | 14.835905 | 28 | 123 | protein-containing complex               |\n",
       "| 2 | GO:0005634 | 0.0021556880 | 2.172414 | 17.127630 | 28 | 142 | nucleus                                  |\n",
       "| 3 | GO:0140535 | 0.0025066520 | 4.490842 |  2.653576 |  8 |  22 | intracellular protein-containing complex |\n",
       "| 4 | GO:1990234 | 0.0076404521 | 4.627500 |  1.929874 |  6 |  16 | transferase complex                      |\n",
       "| 5 | GO:0005886 | 0.0085012825 | 2.285714 |  8.805049 | 16 |  73 | plasma membrane                          |\n",
       "\n"
      ],
      "text/plain": [
       "  GOCCID     Pvalue       OddsRatio ExpCount  Count Size\n",
       "1 GO:0032991 0.0001548667 2.703448  14.835905 28    123 \n",
       "2 GO:0005634 0.0021556880 2.172414  17.127630 28    142 \n",
       "3 GO:0140535 0.0025066520 4.490842   2.653576  8     22 \n",
       "4 GO:1990234 0.0076404521 4.627500   1.929874  6     16 \n",
       "5 GO:0005886 0.0085012825 2.285714   8.805049 16     73 \n",
       "  Term                                    \n",
       "1 protein-containing complex              \n",
       "2 nucleus                                 \n",
       "3 intracellular protein-containing complex\n",
       "4 transferase complex                     \n",
       "5 plasma membrane                         "
      ]
     },
     "metadata": {},
     "output_type": "display_data"
    }
   ],
   "source": [
    "summary(upCC)[1:5,]\n"
   ]
  },
  {
   "cell_type": "code",
   "execution_count": 57,
   "id": "8b0c6c43-17ae-441e-ac62-be7629d57932",
   "metadata": {},
   "outputs": [
    {
     "data": {
      "text/html": [
       "<table class=\"dataframe\">\n",
       "<caption>A data.frame: 5 × 7</caption>\n",
       "<thead>\n",
       "\t<tr><th></th><th scope=col>GOCCID</th><th scope=col>Pvalue</th><th scope=col>OddsRatio</th><th scope=col>ExpCount</th><th scope=col>Count</th><th scope=col>Size</th><th scope=col>Term</th></tr>\n",
       "\t<tr><th></th><th scope=col>&lt;chr&gt;</th><th scope=col>&lt;dbl&gt;</th><th scope=col>&lt;dbl&gt;</th><th scope=col>&lt;dbl&gt;</th><th scope=col>&lt;int&gt;</th><th scope=col>&lt;int&gt;</th><th scope=col>&lt;chr&gt;</th></tr>\n",
       "</thead>\n",
       "<tbody>\n",
       "\t<tr><th scope=row>1</th><td>GO:0005576</td><td>2.033933e-19</td><td>6.031503</td><td>111.27069</td><td>161</td><td>188</td><td>extracellular region</td></tr>\n",
       "\t<tr><th scope=row>2</th><td>GO:0005615</td><td>3.431644e-18</td><td>6.333551</td><td> 98.24965</td><td>144</td><td>166</td><td>extracellular space </td></tr>\n",
       "\t<tr><th scope=row>3</th><td>GO:0015629</td><td>4.083513e-03</td><td>6.065432</td><td> 11.24544</td><td> 17</td><td> 19</td><td>actin cytoskeleton  </td></tr>\n",
       "\t<tr><th scope=row>NA</th><td>NA        </td><td>          NA</td><td>      NA</td><td>       NA</td><td> NA</td><td> NA</td><td>NA                  </td></tr>\n",
       "\t<tr><th scope=row>NA.1</th><td>NA        </td><td>          NA</td><td>      NA</td><td>       NA</td><td> NA</td><td> NA</td><td>NA                  </td></tr>\n",
       "</tbody>\n",
       "</table>\n"
      ],
      "text/latex": [
       "A data.frame: 5 × 7\n",
       "\\begin{tabular}{r|lllllll}\n",
       "  & GOCCID & Pvalue & OddsRatio & ExpCount & Count & Size & Term\\\\\n",
       "  & <chr> & <dbl> & <dbl> & <dbl> & <int> & <int> & <chr>\\\\\n",
       "\\hline\n",
       "\t1 & GO:0005576 & 2.033933e-19 & 6.031503 & 111.27069 & 161 & 188 & extracellular region\\\\\n",
       "\t2 & GO:0005615 & 3.431644e-18 & 6.333551 &  98.24965 & 144 & 166 & extracellular space \\\\\n",
       "\t3 & GO:0015629 & 4.083513e-03 & 6.065432 &  11.24544 &  17 &  19 & actin cytoskeleton  \\\\\n",
       "\tNA & NA         &           NA &       NA &        NA &  NA &  NA & NA                  \\\\\n",
       "\tNA.1 & NA         &           NA &       NA &        NA &  NA &  NA & NA                  \\\\\n",
       "\\end{tabular}\n"
      ],
      "text/markdown": [
       "\n",
       "A data.frame: 5 × 7\n",
       "\n",
       "| <!--/--> | GOCCID &lt;chr&gt; | Pvalue &lt;dbl&gt; | OddsRatio &lt;dbl&gt; | ExpCount &lt;dbl&gt; | Count &lt;int&gt; | Size &lt;int&gt; | Term &lt;chr&gt; |\n",
       "|---|---|---|---|---|---|---|---|\n",
       "| 1 | GO:0005576 | 2.033933e-19 | 6.031503 | 111.27069 | 161 | 188 | extracellular region |\n",
       "| 2 | GO:0005615 | 3.431644e-18 | 6.333551 |  98.24965 | 144 | 166 | extracellular space  |\n",
       "| 3 | GO:0015629 | 4.083513e-03 | 6.065432 |  11.24544 |  17 |  19 | actin cytoskeleton   |\n",
       "| NA | NA         |           NA |       NA |        NA |  NA |  NA | NA                   |\n",
       "| NA.1 | NA         |           NA |       NA |        NA |  NA |  NA | NA                   |\n",
       "\n"
      ],
      "text/plain": [
       "     GOCCID     Pvalue       OddsRatio ExpCount  Count Size\n",
       "1    GO:0005576 2.033933e-19 6.031503  111.27069 161   188 \n",
       "2    GO:0005615 3.431644e-18 6.333551   98.24965 144   166 \n",
       "3    GO:0015629 4.083513e-03 6.065432   11.24544  17    19 \n",
       "NA   NA                   NA       NA         NA  NA    NA \n",
       "NA.1 NA                   NA       NA         NA  NA    NA \n",
       "     Term                \n",
       "1    extracellular region\n",
       "2    extracellular space \n",
       "3    actin cytoskeleton  \n",
       "NA   NA                  \n",
       "NA.1 NA                  "
      ]
     },
     "metadata": {},
     "output_type": "display_data"
    }
   ],
   "source": [
    "summary(dnCC)[1:5,]"
   ]
  },
  {
   "cell_type": "markdown",
   "id": "1f0bbf1e-f92a-4e06-8543-a66ea799bd90",
   "metadata": {},
   "source": [
    "### GO Molecular Functions"
   ]
  },
  {
   "cell_type": "code",
   "execution_count": 58,
   "id": "249fb2e1-5e29-4fed-a01d-543417ca358d",
   "metadata": {},
   "outputs": [],
   "source": [
    "upParams = new(\"GOHyperGParams\",\n",
    "               geneIds = selectGenesUp,\n",
    "               universeGeneIds = universeGenes,\n",
    "               annotation = \"org.Dm.eg.db\",\n",
    "               ontology = \"MF\", # molecular functions\n",
    "               pvalueCutoff = 0.01,\n",
    "               conditional = FALSE,\n",
    "               testDirection = \"over\")\n",
    "\n",
    "dnParams = new(\"GOHyperGParams\",\n",
    "               geneIds = selectGenesDn,\n",
    "               universeGeneIds = universeGenes,\n",
    "               annotation = \"org.Dm.eg.db\",\n",
    "               ontology = \"MF\",\n",
    "               pvalueCutoff = 0.01,\n",
    "               conditional = FALSE,\n",
    "               testDirection = \"over\")\n",
    "\n",
    "upMF = hyperGTest(upParams)\n",
    "dnMF = hyperGTest(dnParams)"
   ]
  },
  {
   "cell_type": "code",
   "execution_count": 59,
   "id": "62e546bc-6807-47c4-8ff2-7d529a247413",
   "metadata": {},
   "outputs": [
    {
     "data": {
      "text/html": [
       "<table class=\"dataframe\">\n",
       "<caption>A data.frame: 5 × 7</caption>\n",
       "<thead>\n",
       "\t<tr><th></th><th scope=col>GOMFID</th><th scope=col>Pvalue</th><th scope=col>OddsRatio</th><th scope=col>ExpCount</th><th scope=col>Count</th><th scope=col>Size</th><th scope=col>Term</th></tr>\n",
       "\t<tr><th></th><th scope=col>&lt;chr&gt;</th><th scope=col>&lt;dbl&gt;</th><th scope=col>&lt;dbl&gt;</th><th scope=col>&lt;dbl&gt;</th><th scope=col>&lt;int&gt;</th><th scope=col>&lt;int&gt;</th><th scope=col>&lt;chr&gt;</th></tr>\n",
       "</thead>\n",
       "<tbody>\n",
       "\t<tr><th scope=row>1</th><td>GO:0004888</td><td>0.0004995426</td><td> 7.846154</td><td> 1.6903409</td><td> 7</td><td> 14</td><td>transmembrane signaling receptor activity</td></tr>\n",
       "\t<tr><th scope=row>2</th><td>GO:0003676</td><td>0.0023963043</td><td> 2.380000</td><td>11.5909091</td><td>21</td><td> 96</td><td>nucleic acid binding                     </td></tr>\n",
       "\t<tr><th scope=row>3</th><td>GO:0022836</td><td>0.0053023253</td><td> 5.147679</td><td> 1.8110795</td><td> 6</td><td> 15</td><td>gated channel activity                   </td></tr>\n",
       "\t<tr><th scope=row>4</th><td>GO:0019904</td><td>0.0062243461</td><td>22.609756</td><td> 0.4829545</td><td> 3</td><td>  4</td><td>protein domain specific binding          </td></tr>\n",
       "\t<tr><th scope=row>5</th><td>GO:0005488</td><td>0.0086905151</td><td> 1.787013</td><td>39.2400568</td><td>50</td><td>325</td><td>binding                                  </td></tr>\n",
       "</tbody>\n",
       "</table>\n"
      ],
      "text/latex": [
       "A data.frame: 5 × 7\n",
       "\\begin{tabular}{r|lllllll}\n",
       "  & GOMFID & Pvalue & OddsRatio & ExpCount & Count & Size & Term\\\\\n",
       "  & <chr> & <dbl> & <dbl> & <dbl> & <int> & <int> & <chr>\\\\\n",
       "\\hline\n",
       "\t1 & GO:0004888 & 0.0004995426 &  7.846154 &  1.6903409 &  7 &  14 & transmembrane signaling receptor activity\\\\\n",
       "\t2 & GO:0003676 & 0.0023963043 &  2.380000 & 11.5909091 & 21 &  96 & nucleic acid binding                     \\\\\n",
       "\t3 & GO:0022836 & 0.0053023253 &  5.147679 &  1.8110795 &  6 &  15 & gated channel activity                   \\\\\n",
       "\t4 & GO:0019904 & 0.0062243461 & 22.609756 &  0.4829545 &  3 &   4 & protein domain specific binding          \\\\\n",
       "\t5 & GO:0005488 & 0.0086905151 &  1.787013 & 39.2400568 & 50 & 325 & binding                                  \\\\\n",
       "\\end{tabular}\n"
      ],
      "text/markdown": [
       "\n",
       "A data.frame: 5 × 7\n",
       "\n",
       "| <!--/--> | GOMFID &lt;chr&gt; | Pvalue &lt;dbl&gt; | OddsRatio &lt;dbl&gt; | ExpCount &lt;dbl&gt; | Count &lt;int&gt; | Size &lt;int&gt; | Term &lt;chr&gt; |\n",
       "|---|---|---|---|---|---|---|---|\n",
       "| 1 | GO:0004888 | 0.0004995426 |  7.846154 |  1.6903409 |  7 |  14 | transmembrane signaling receptor activity |\n",
       "| 2 | GO:0003676 | 0.0023963043 |  2.380000 | 11.5909091 | 21 |  96 | nucleic acid binding                      |\n",
       "| 3 | GO:0022836 | 0.0053023253 |  5.147679 |  1.8110795 |  6 |  15 | gated channel activity                    |\n",
       "| 4 | GO:0019904 | 0.0062243461 | 22.609756 |  0.4829545 |  3 |   4 | protein domain specific binding           |\n",
       "| 5 | GO:0005488 | 0.0086905151 |  1.787013 | 39.2400568 | 50 | 325 | binding                                   |\n",
       "\n"
      ],
      "text/plain": [
       "  GOMFID     Pvalue       OddsRatio ExpCount   Count Size\n",
       "1 GO:0004888 0.0004995426  7.846154  1.6903409  7     14 \n",
       "2 GO:0003676 0.0023963043  2.380000 11.5909091 21     96 \n",
       "3 GO:0022836 0.0053023253  5.147679  1.8110795  6     15 \n",
       "4 GO:0019904 0.0062243461 22.609756  0.4829545  3      4 \n",
       "5 GO:0005488 0.0086905151  1.787013 39.2400568 50    325 \n",
       "  Term                                     \n",
       "1 transmembrane signaling receptor activity\n",
       "2 nucleic acid binding                     \n",
       "3 gated channel activity                   \n",
       "4 protein domain specific binding          \n",
       "5 binding                                  "
      ]
     },
     "metadata": {},
     "output_type": "display_data"
    },
    {
     "data": {
      "text/html": [
       "<table class=\"dataframe\">\n",
       "<caption>A data.frame: 5 × 7</caption>\n",
       "<thead>\n",
       "\t<tr><th></th><th scope=col>GOMFID</th><th scope=col>Pvalue</th><th scope=col>OddsRatio</th><th scope=col>ExpCount</th><th scope=col>Count</th><th scope=col>Size</th><th scope=col>Term</th></tr>\n",
       "\t<tr><th></th><th scope=col>&lt;chr&gt;</th><th scope=col>&lt;dbl&gt;</th><th scope=col>&lt;dbl&gt;</th><th scope=col>&lt;dbl&gt;</th><th scope=col>&lt;int&gt;</th><th scope=col>&lt;int&gt;</th><th scope=col>&lt;chr&gt;</th></tr>\n",
       "</thead>\n",
       "<tbody>\n",
       "\t<tr><th scope=row>1</th><td>GO:0030246</td><td>7.786161e-06</td><td>11.07071</td><td>20.67045</td><td>32</td><td>34</td><td>carbohydrate binding            </td></tr>\n",
       "\t<tr><th scope=row>2</th><td>GO:0004866</td><td>1.414871e-05</td><td>     Inf</td><td>13.37500</td><td>22</td><td>22</td><td>endopeptidase inhibitor activity</td></tr>\n",
       "\t<tr><th scope=row>3</th><td>GO:0030414</td><td>1.414871e-05</td><td>     Inf</td><td>13.37500</td><td>22</td><td>22</td><td>peptidase inhibitor activity    </td></tr>\n",
       "\t<tr><th scope=row>4</th><td>GO:0048029</td><td>1.414871e-05</td><td>     Inf</td><td>13.37500</td><td>22</td><td>22</td><td>monosaccharide binding          </td></tr>\n",
       "\t<tr><th scope=row>5</th><td>GO:0061135</td><td>1.414871e-05</td><td>     Inf</td><td>13.37500</td><td>22</td><td>22</td><td>endopeptidase regulator activity</td></tr>\n",
       "</tbody>\n",
       "</table>\n"
      ],
      "text/latex": [
       "A data.frame: 5 × 7\n",
       "\\begin{tabular}{r|lllllll}\n",
       "  & GOMFID & Pvalue & OddsRatio & ExpCount & Count & Size & Term\\\\\n",
       "  & <chr> & <dbl> & <dbl> & <dbl> & <int> & <int> & <chr>\\\\\n",
       "\\hline\n",
       "\t1 & GO:0030246 & 7.786161e-06 & 11.07071 & 20.67045 & 32 & 34 & carbohydrate binding            \\\\\n",
       "\t2 & GO:0004866 & 1.414871e-05 &      Inf & 13.37500 & 22 & 22 & endopeptidase inhibitor activity\\\\\n",
       "\t3 & GO:0030414 & 1.414871e-05 &      Inf & 13.37500 & 22 & 22 & peptidase inhibitor activity    \\\\\n",
       "\t4 & GO:0048029 & 1.414871e-05 &      Inf & 13.37500 & 22 & 22 & monosaccharide binding          \\\\\n",
       "\t5 & GO:0061135 & 1.414871e-05 &      Inf & 13.37500 & 22 & 22 & endopeptidase regulator activity\\\\\n",
       "\\end{tabular}\n"
      ],
      "text/markdown": [
       "\n",
       "A data.frame: 5 × 7\n",
       "\n",
       "| <!--/--> | GOMFID &lt;chr&gt; | Pvalue &lt;dbl&gt; | OddsRatio &lt;dbl&gt; | ExpCount &lt;dbl&gt; | Count &lt;int&gt; | Size &lt;int&gt; | Term &lt;chr&gt; |\n",
       "|---|---|---|---|---|---|---|---|\n",
       "| 1 | GO:0030246 | 7.786161e-06 | 11.07071 | 20.67045 | 32 | 34 | carbohydrate binding             |\n",
       "| 2 | GO:0004866 | 1.414871e-05 |      Inf | 13.37500 | 22 | 22 | endopeptidase inhibitor activity |\n",
       "| 3 | GO:0030414 | 1.414871e-05 |      Inf | 13.37500 | 22 | 22 | peptidase inhibitor activity     |\n",
       "| 4 | GO:0048029 | 1.414871e-05 |      Inf | 13.37500 | 22 | 22 | monosaccharide binding           |\n",
       "| 5 | GO:0061135 | 1.414871e-05 |      Inf | 13.37500 | 22 | 22 | endopeptidase regulator activity |\n",
       "\n"
      ],
      "text/plain": [
       "  GOMFID     Pvalue       OddsRatio ExpCount Count Size\n",
       "1 GO:0030246 7.786161e-06 11.07071  20.67045 32    34  \n",
       "2 GO:0004866 1.414871e-05      Inf  13.37500 22    22  \n",
       "3 GO:0030414 1.414871e-05      Inf  13.37500 22    22  \n",
       "4 GO:0048029 1.414871e-05      Inf  13.37500 22    22  \n",
       "5 GO:0061135 1.414871e-05      Inf  13.37500 22    22  \n",
       "  Term                            \n",
       "1 carbohydrate binding            \n",
       "2 endopeptidase inhibitor activity\n",
       "3 peptidase inhibitor activity    \n",
       "4 monosaccharide binding          \n",
       "5 endopeptidase regulator activity"
      ]
     },
     "metadata": {},
     "output_type": "display_data"
    }
   ],
   "source": [
    "summary(upMF)[1:5,]\n",
    "summary(dnMF)[1:5,]"
   ]
  },
  {
   "cell_type": "code",
   "execution_count": 60,
   "id": "4803f6b0-82da-4cce-af95-c903c1c338a8",
   "metadata": {},
   "outputs": [
    {
     "data": {
      "text/html": [
       "<style>\n",
       ".list-inline {list-style: none; margin:0; padding: 0}\n",
       ".list-inline>li {display: inline-block}\n",
       ".list-inline>li:not(:last-child)::after {content: \"\\00b7\"; padding: 0 .5ex}\n",
       "</style>\n",
       "<ol class=list-inline><li>'transmembrane signaling receptor activity'</li><li>'nucleic acid binding'</li><li>'gated channel activity'</li><li>'protein domain specific binding'</li><li>'binding'</li><li>'ligand-gated monoatomic ion channel activity'</li><li>'ligand-gated channel activity'</li></ol>\n"
      ],
      "text/latex": [
       "\\begin{enumerate*}\n",
       "\\item 'transmembrane signaling receptor activity'\n",
       "\\item 'nucleic acid binding'\n",
       "\\item 'gated channel activity'\n",
       "\\item 'protein domain specific binding'\n",
       "\\item 'binding'\n",
       "\\item 'ligand-gated monoatomic ion channel activity'\n",
       "\\item 'ligand-gated channel activity'\n",
       "\\end{enumerate*}\n"
      ],
      "text/markdown": [
       "1. 'transmembrane signaling receptor activity'\n",
       "2. 'nucleic acid binding'\n",
       "3. 'gated channel activity'\n",
       "4. 'protein domain specific binding'\n",
       "5. 'binding'\n",
       "6. 'ligand-gated monoatomic ion channel activity'\n",
       "7. 'ligand-gated channel activity'\n",
       "\n",
       "\n"
      ],
      "text/plain": [
       "[1] \"transmembrane signaling receptor activity\"   \n",
       "[2] \"nucleic acid binding\"                        \n",
       "[3] \"gated channel activity\"                      \n",
       "[4] \"protein domain specific binding\"             \n",
       "[5] \"binding\"                                     \n",
       "[6] \"ligand-gated monoatomic ion channel activity\"\n",
       "[7] \"ligand-gated channel activity\"               "
      ]
     },
     "metadata": {},
     "output_type": "display_data"
    }
   ],
   "source": [
    "summary(upMF)$Term"
   ]
  },
  {
   "cell_type": "code",
   "execution_count": 61,
   "id": "2e618604-9b25-4084-a5f7-740aa328c286",
   "metadata": {},
   "outputs": [
    {
     "data": {
      "text/html": [
       "<style>\n",
       ".list-inline {list-style: none; margin:0; padding: 0}\n",
       ".list-inline>li {display: inline-block}\n",
       ".list-inline>li:not(:last-child)::after {content: \"\\00b7\"; padding: 0 .5ex}\n",
       "</style>\n",
       "<ol class=list-inline><li>'carbohydrate binding'</li><li>'endopeptidase inhibitor activity'</li><li>'peptidase inhibitor activity'</li><li>'monosaccharide binding'</li><li>'endopeptidase regulator activity'</li><li>'serine-type endopeptidase inhibitor activity'</li><li>'peptidase regulator activity'</li><li>'procollagen-proline 4-dioxygenase activity'</li><li>'procollagen-proline dioxygenase activity'</li><li>'peptidyl-proline dioxygenase activity'</li><li>'peptidyl-proline 4-dioxygenase activity'</li><li>'oxidoreductase activity'</li><li>'vitamin binding'</li><li>'carboxylic acid binding'</li><li>'L-ascorbic acid binding'</li><li>'organic acid binding'</li><li>'oxidoreductase activity, acting on paired donors, with incorporation or reduction of molecular oxygen'</li><li>'enzyme inhibitor activity'</li><li>'molecular function inhibitor activity'</li><li>'enzyme regulator activity'</li><li>'iron ion binding'</li><li>'2-oxoglutarate-dependent dioxygenase activity'</li><li>'dioxygenase activity'</li><li>'molecular function regulator activity'</li><li>'carboxylic ester hydrolase activity'</li></ol>\n"
      ],
      "text/latex": [
       "\\begin{enumerate*}\n",
       "\\item 'carbohydrate binding'\n",
       "\\item 'endopeptidase inhibitor activity'\n",
       "\\item 'peptidase inhibitor activity'\n",
       "\\item 'monosaccharide binding'\n",
       "\\item 'endopeptidase regulator activity'\n",
       "\\item 'serine-type endopeptidase inhibitor activity'\n",
       "\\item 'peptidase regulator activity'\n",
       "\\item 'procollagen-proline 4-dioxygenase activity'\n",
       "\\item 'procollagen-proline dioxygenase activity'\n",
       "\\item 'peptidyl-proline dioxygenase activity'\n",
       "\\item 'peptidyl-proline 4-dioxygenase activity'\n",
       "\\item 'oxidoreductase activity'\n",
       "\\item 'vitamin binding'\n",
       "\\item 'carboxylic acid binding'\n",
       "\\item 'L-ascorbic acid binding'\n",
       "\\item 'organic acid binding'\n",
       "\\item 'oxidoreductase activity, acting on paired donors, with incorporation or reduction of molecular oxygen'\n",
       "\\item 'enzyme inhibitor activity'\n",
       "\\item 'molecular function inhibitor activity'\n",
       "\\item 'enzyme regulator activity'\n",
       "\\item 'iron ion binding'\n",
       "\\item '2-oxoglutarate-dependent dioxygenase activity'\n",
       "\\item 'dioxygenase activity'\n",
       "\\item 'molecular function regulator activity'\n",
       "\\item 'carboxylic ester hydrolase activity'\n",
       "\\end{enumerate*}\n"
      ],
      "text/markdown": [
       "1. 'carbohydrate binding'\n",
       "2. 'endopeptidase inhibitor activity'\n",
       "3. 'peptidase inhibitor activity'\n",
       "4. 'monosaccharide binding'\n",
       "5. 'endopeptidase regulator activity'\n",
       "6. 'serine-type endopeptidase inhibitor activity'\n",
       "7. 'peptidase regulator activity'\n",
       "8. 'procollagen-proline 4-dioxygenase activity'\n",
       "9. 'procollagen-proline dioxygenase activity'\n",
       "10. 'peptidyl-proline dioxygenase activity'\n",
       "11. 'peptidyl-proline 4-dioxygenase activity'\n",
       "12. 'oxidoreductase activity'\n",
       "13. 'vitamin binding'\n",
       "14. 'carboxylic acid binding'\n",
       "15. 'L-ascorbic acid binding'\n",
       "16. 'organic acid binding'\n",
       "17. 'oxidoreductase activity, acting on paired donors, with incorporation or reduction of molecular oxygen'\n",
       "18. 'enzyme inhibitor activity'\n",
       "19. 'molecular function inhibitor activity'\n",
       "20. 'enzyme regulator activity'\n",
       "21. 'iron ion binding'\n",
       "22. '2-oxoglutarate-dependent dioxygenase activity'\n",
       "23. 'dioxygenase activity'\n",
       "24. 'molecular function regulator activity'\n",
       "25. 'carboxylic ester hydrolase activity'\n",
       "\n",
       "\n"
      ],
      "text/plain": [
       " [1] \"carbohydrate binding\"                                                                                 \n",
       " [2] \"endopeptidase inhibitor activity\"                                                                     \n",
       " [3] \"peptidase inhibitor activity\"                                                                         \n",
       " [4] \"monosaccharide binding\"                                                                               \n",
       " [5] \"endopeptidase regulator activity\"                                                                     \n",
       " [6] \"serine-type endopeptidase inhibitor activity\"                                                         \n",
       " [7] \"peptidase regulator activity\"                                                                         \n",
       " [8] \"procollagen-proline 4-dioxygenase activity\"                                                           \n",
       " [9] \"procollagen-proline dioxygenase activity\"                                                             \n",
       "[10] \"peptidyl-proline dioxygenase activity\"                                                                \n",
       "[11] \"peptidyl-proline 4-dioxygenase activity\"                                                              \n",
       "[12] \"oxidoreductase activity\"                                                                              \n",
       "[13] \"vitamin binding\"                                                                                      \n",
       "[14] \"carboxylic acid binding\"                                                                              \n",
       "[15] \"L-ascorbic acid binding\"                                                                              \n",
       "[16] \"organic acid binding\"                                                                                 \n",
       "[17] \"oxidoreductase activity, acting on paired donors, with incorporation or reduction of molecular oxygen\"\n",
       "[18] \"enzyme inhibitor activity\"                                                                            \n",
       "[19] \"molecular function inhibitor activity\"                                                                \n",
       "[20] \"enzyme regulator activity\"                                                                            \n",
       "[21] \"iron ion binding\"                                                                                     \n",
       "[22] \"2-oxoglutarate-dependent dioxygenase activity\"                                                        \n",
       "[23] \"dioxygenase activity\"                                                                                 \n",
       "[24] \"molecular function regulator activity\"                                                                \n",
       "[25] \"carboxylic ester hydrolase activity\"                                                                  "
      ]
     },
     "metadata": {},
     "output_type": "display_data"
    }
   ],
   "source": [
    "summary(dnMF)$Term"
   ]
  },
  {
   "cell_type": "markdown",
   "id": "c34800cb-f569-4ded-b82d-84c0df4536d3",
   "metadata": {},
   "source": [
    "### KEGG ANALYSIS:"
   ]
  },
  {
   "cell_type": "code",
   "execution_count": 62,
   "id": "eda96d17-dff8-4c70-998e-2fd876f65a77",
   "metadata": {},
   "outputs": [],
   "source": [
    "upKeggParams = new(\"KEGGHyperGParams\",\n",
    "                   geneIds=selectGenesUp,\n",
    "                   universeGeneIds=universeGenes,\n",
    "                   annotation=\"org.Dm.eg.db\",\n",
    "                   pvalueCutoff=1,\n",
    "                   testDirection=\"over\")\n",
    "\n",
    "dnKeggParams = new(\"KEGGHyperGParams\",\n",
    "                   geneIds=selectGenesDn,\n",
    "                   universeGeneIds=universeGenes,\n",
    "                   annotation=\"org.Dm.eg.db\",\n",
    "                   pvalueCutoff=1,\n",
    "                   testDirection=\"over\")\n",
    "\n",
    "upKEGG=hyperGTest(upKeggParams)\n",
    "dnKEGG=hyperGTest(dnKeggParams)"
   ]
  },
  {
   "cell_type": "code",
   "execution_count": 66,
   "id": "1d485263-8a8b-4f4d-a3f3-90814230f3ac",
   "metadata": {},
   "outputs": [
    {
     "data": {
      "text/html": [
       "<table class=\"dataframe\">\n",
       "<caption>A data.frame: 5 × 7</caption>\n",
       "<thead>\n",
       "\t<tr><th></th><th scope=col>KEGGID</th><th scope=col>Pvalue</th><th scope=col>OddsRatio</th><th scope=col>ExpCount</th><th scope=col>Count</th><th scope=col>Size</th><th scope=col>Term</th></tr>\n",
       "\t<tr><th></th><th scope=col>&lt;chr&gt;</th><th scope=col>&lt;dbl&gt;</th><th scope=col>&lt;dbl&gt;</th><th scope=col>&lt;dbl&gt;</th><th scope=col>&lt;int&gt;</th><th scope=col>&lt;int&gt;</th><th scope=col>&lt;chr&gt;</th></tr>\n",
       "</thead>\n",
       "<tbody>\n",
       "\t<tr><th scope=row>1</th><td>00563</td><td>0.09558824</td><td>     Inf</td><td>0.09558824</td><td>1</td><td>1</td><td>NA</td></tr>\n",
       "\t<tr><th scope=row>2</th><td>00670</td><td>0.09558824</td><td>     Inf</td><td>0.09558824</td><td>1</td><td>1</td><td>NA</td></tr>\n",
       "\t<tr><th scope=row>3</th><td>04140</td><td>0.09558824</td><td>     Inf</td><td>0.09558824</td><td>1</td><td>1</td><td>NA</td></tr>\n",
       "\t<tr><th scope=row>4</th><td>03450</td><td>0.09558824</td><td>     Inf</td><td>0.09558824</td><td>1</td><td>1</td><td>NA</td></tr>\n",
       "\t<tr><th scope=row>5</th><td>04080</td><td>0.18267974</td><td>10.16667</td><td>0.19117647</td><td>1</td><td>2</td><td>NA</td></tr>\n",
       "</tbody>\n",
       "</table>\n"
      ],
      "text/latex": [
       "A data.frame: 5 × 7\n",
       "\\begin{tabular}{r|lllllll}\n",
       "  & KEGGID & Pvalue & OddsRatio & ExpCount & Count & Size & Term\\\\\n",
       "  & <chr> & <dbl> & <dbl> & <dbl> & <int> & <int> & <chr>\\\\\n",
       "\\hline\n",
       "\t1 & 00563 & 0.09558824 &      Inf & 0.09558824 & 1 & 1 & NA\\\\\n",
       "\t2 & 00670 & 0.09558824 &      Inf & 0.09558824 & 1 & 1 & NA\\\\\n",
       "\t3 & 04140 & 0.09558824 &      Inf & 0.09558824 & 1 & 1 & NA\\\\\n",
       "\t4 & 03450 & 0.09558824 &      Inf & 0.09558824 & 1 & 1 & NA\\\\\n",
       "\t5 & 04080 & 0.18267974 & 10.16667 & 0.19117647 & 1 & 2 & NA\\\\\n",
       "\\end{tabular}\n"
      ],
      "text/markdown": [
       "\n",
       "A data.frame: 5 × 7\n",
       "\n",
       "| <!--/--> | KEGGID &lt;chr&gt; | Pvalue &lt;dbl&gt; | OddsRatio &lt;dbl&gt; | ExpCount &lt;dbl&gt; | Count &lt;int&gt; | Size &lt;int&gt; | Term &lt;chr&gt; |\n",
       "|---|---|---|---|---|---|---|---|\n",
       "| 1 | 00563 | 0.09558824 |      Inf | 0.09558824 | 1 | 1 | NA |\n",
       "| 2 | 00670 | 0.09558824 |      Inf | 0.09558824 | 1 | 1 | NA |\n",
       "| 3 | 04140 | 0.09558824 |      Inf | 0.09558824 | 1 | 1 | NA |\n",
       "| 4 | 03450 | 0.09558824 |      Inf | 0.09558824 | 1 | 1 | NA |\n",
       "| 5 | 04080 | 0.18267974 | 10.16667 | 0.19117647 | 1 | 2 | NA |\n",
       "\n"
      ],
      "text/plain": [
       "  KEGGID Pvalue     OddsRatio ExpCount   Count Size Term\n",
       "1 00563  0.09558824      Inf  0.09558824 1     1    NA  \n",
       "2 00670  0.09558824      Inf  0.09558824 1     1    NA  \n",
       "3 04140  0.09558824      Inf  0.09558824 1     1    NA  \n",
       "4 03450  0.09558824      Inf  0.09558824 1     1    NA  \n",
       "5 04080  0.18267974 10.16667  0.19117647 1     2    NA  "
      ]
     },
     "metadata": {},
     "output_type": "display_data"
    }
   ],
   "source": [
    "summary(upKEGG)[1:5,]"
   ]
  },
  {
   "cell_type": "code",
   "execution_count": 68,
   "id": "45ac6bcd-3fd7-4c9b-9dca-e112e381df9c",
   "metadata": {},
   "outputs": [
    {
     "data": {
      "text/html": [
       "<table class=\"dataframe\">\n",
       "<caption>A data.frame: 5 × 7</caption>\n",
       "<thead>\n",
       "\t<tr><th></th><th scope=col>KEGGID</th><th scope=col>Pvalue</th><th scope=col>OddsRatio</th><th scope=col>ExpCount</th><th scope=col>Count</th><th scope=col>Size</th><th scope=col>Term</th></tr>\n",
       "\t<tr><th></th><th scope=col>&lt;chr&gt;</th><th scope=col>&lt;dbl&gt;</th><th scope=col>&lt;dbl&gt;</th><th scope=col>&lt;dbl&gt;</th><th scope=col>&lt;int&gt;</th><th scope=col>&lt;int&gt;</th><th scope=col>&lt;chr&gt;</th></tr>\n",
       "</thead>\n",
       "<tbody>\n",
       "\t<tr><th scope=row>1</th><td>01100</td><td>0.0001214777</td><td>3.929825</td><td>36.948529</td><td>48</td><td>67</td><td>NA</td></tr>\n",
       "\t<tr><th scope=row>2</th><td>00330</td><td>0.0005150782</td><td>     Inf</td><td> 6.617647</td><td>12</td><td>12</td><td>NA</td></tr>\n",
       "\t<tr><th scope=row>3</th><td>04142</td><td>0.0479516594</td><td>     Inf</td><td> 2.757353</td><td> 5</td><td> 5</td><td>NA</td></tr>\n",
       "\t<tr><th scope=row>4</th><td>00903</td><td>0.0585963330</td><td>4.022727</td><td> 6.066176</td><td> 9</td><td>11</td><td>NA</td></tr>\n",
       "\t<tr><th scope=row>5</th><td>00480</td><td>0.0891495640</td><td>     Inf</td><td> 2.205882</td><td> 4</td><td> 4</td><td>NA</td></tr>\n",
       "</tbody>\n",
       "</table>\n"
      ],
      "text/latex": [
       "A data.frame: 5 × 7\n",
       "\\begin{tabular}{r|lllllll}\n",
       "  & KEGGID & Pvalue & OddsRatio & ExpCount & Count & Size & Term\\\\\n",
       "  & <chr> & <dbl> & <dbl> & <dbl> & <int> & <int> & <chr>\\\\\n",
       "\\hline\n",
       "\t1 & 01100 & 0.0001214777 & 3.929825 & 36.948529 & 48 & 67 & NA\\\\\n",
       "\t2 & 00330 & 0.0005150782 &      Inf &  6.617647 & 12 & 12 & NA\\\\\n",
       "\t3 & 04142 & 0.0479516594 &      Inf &  2.757353 &  5 &  5 & NA\\\\\n",
       "\t4 & 00903 & 0.0585963330 & 4.022727 &  6.066176 &  9 & 11 & NA\\\\\n",
       "\t5 & 00480 & 0.0891495640 &      Inf &  2.205882 &  4 &  4 & NA\\\\\n",
       "\\end{tabular}\n"
      ],
      "text/markdown": [
       "\n",
       "A data.frame: 5 × 7\n",
       "\n",
       "| <!--/--> | KEGGID &lt;chr&gt; | Pvalue &lt;dbl&gt; | OddsRatio &lt;dbl&gt; | ExpCount &lt;dbl&gt; | Count &lt;int&gt; | Size &lt;int&gt; | Term &lt;chr&gt; |\n",
       "|---|---|---|---|---|---|---|---|\n",
       "| 1 | 01100 | 0.0001214777 | 3.929825 | 36.948529 | 48 | 67 | NA |\n",
       "| 2 | 00330 | 0.0005150782 |      Inf |  6.617647 | 12 | 12 | NA |\n",
       "| 3 | 04142 | 0.0479516594 |      Inf |  2.757353 |  5 |  5 | NA |\n",
       "| 4 | 00903 | 0.0585963330 | 4.022727 |  6.066176 |  9 | 11 | NA |\n",
       "| 5 | 00480 | 0.0891495640 |      Inf |  2.205882 |  4 |  4 | NA |\n",
       "\n"
      ],
      "text/plain": [
       "  KEGGID Pvalue       OddsRatio ExpCount  Count Size Term\n",
       "1 01100  0.0001214777 3.929825  36.948529 48    67   NA  \n",
       "2 00330  0.0005150782      Inf   6.617647 12    12   NA  \n",
       "3 04142  0.0479516594      Inf   2.757353  5     5   NA  \n",
       "4 00903  0.0585963330 4.022727   6.066176  9    11   NA  \n",
       "5 00480  0.0891495640      Inf   2.205882  4     4   NA  "
      ]
     },
     "metadata": {},
     "output_type": "display_data"
    }
   ],
   "source": [
    "summary(dnKEGG)[1:5,]"
   ]
  },
  {
   "cell_type": "code",
   "execution_count": null,
   "id": "fd48fb37-a841-45a3-b012-09d43a7eee88",
   "metadata": {},
   "outputs": [],
   "source": []
  }
 ],
 "metadata": {
  "kernelspec": {
   "display_name": "R",
   "language": "R",
   "name": "ir"
  },
  "language_info": {
   "codemirror_mode": "r",
   "file_extension": ".r",
   "mimetype": "text/x-r-source",
   "name": "R",
   "pygments_lexer": "r",
   "version": "4.4.2"
  }
 },
 "nbformat": 4,
 "nbformat_minor": 5
}
